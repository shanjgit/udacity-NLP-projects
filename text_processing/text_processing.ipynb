{
 "cells": [
  {
   "cell_type": "markdown",
   "metadata": {},
   "source": [
    "# Text Processing\n",
    "\n",
    "## Capturing Text Data\n",
    "\n",
    "### Plain Text"
   ]
  },
  {
   "cell_type": "code",
   "execution_count": 1,
   "metadata": {},
   "outputs": [
    {
     "name": "stdout",
     "output_type": "stream",
     "text": [
      "Hieroglyphic writing dates from c. 3000 BC, and is composed of hundreds of symbols. A hieroglyph can represent a word, a sound, or a silent determinative; and the same symbol can serve different purposes in different contexts. Hieroglyphs were a formal script, used on stone monuments and in tombs, that could be as detailed as individual works of art.\n",
      "\n"
     ]
    }
   ],
   "source": [
    "import os\n",
    "\n",
    "# Read in a plain text file\n",
    "with open(os.path.join(\"data\", \"hieroglyph.txt\"), \"r\") as f:\n",
    "    text = f.read()\n",
    "    print(text)"
   ]
  },
  {
   "cell_type": "markdown",
   "metadata": {},
   "source": [
    "### Tabular Data"
   ]
  },
  {
   "cell_type": "code",
   "execution_count": 2,
   "metadata": {
    "scrolled": true
   },
   "outputs": [
    {
     "data": {
      "text/html": [
       "<div>\n",
       "<style>\n",
       "    .dataframe thead tr:only-child th {\n",
       "        text-align: right;\n",
       "    }\n",
       "\n",
       "    .dataframe thead th {\n",
       "        text-align: left;\n",
       "    }\n",
       "\n",
       "    .dataframe tbody tr th {\n",
       "        vertical-align: top;\n",
       "    }\n",
       "</style>\n",
       "<table border=\"1\" class=\"dataframe\">\n",
       "  <thead>\n",
       "    <tr style=\"text-align: right;\">\n",
       "      <th></th>\n",
       "      <th>publisher</th>\n",
       "      <th>title</th>\n",
       "    </tr>\n",
       "  </thead>\n",
       "  <tbody>\n",
       "    <tr>\n",
       "      <th>0</th>\n",
       "      <td>Livemint</td>\n",
       "      <td>fed's charles plosser sees high bar for change...</td>\n",
       "    </tr>\n",
       "    <tr>\n",
       "      <th>1</th>\n",
       "      <td>IFA Magazine</td>\n",
       "      <td>us open: stocks fall after fed official hints ...</td>\n",
       "    </tr>\n",
       "    <tr>\n",
       "      <th>2</th>\n",
       "      <td>IFA Magazine</td>\n",
       "      <td>fed risks falling 'behind the curve', charles ...</td>\n",
       "    </tr>\n",
       "    <tr>\n",
       "      <th>3</th>\n",
       "      <td>Moneynews</td>\n",
       "      <td>fed's plosser: nasty weather has curbed job gr...</td>\n",
       "    </tr>\n",
       "    <tr>\n",
       "      <th>4</th>\n",
       "      <td>NASDAQ</td>\n",
       "      <td>plosser: fed may have to accelerate tapering pace</td>\n",
       "    </tr>\n",
       "  </tbody>\n",
       "</table>\n",
       "</div>"
      ],
      "text/plain": [
       "      publisher                                              title\n",
       "0      Livemint  fed's charles plosser sees high bar for change...\n",
       "1  IFA Magazine  us open: stocks fall after fed official hints ...\n",
       "2  IFA Magazine  fed risks falling 'behind the curve', charles ...\n",
       "3     Moneynews  fed's plosser: nasty weather has curbed job gr...\n",
       "4        NASDAQ  plosser: fed may have to accelerate tapering pace"
      ]
     },
     "execution_count": 2,
     "metadata": {},
     "output_type": "execute_result"
    }
   ],
   "source": [
    "import pandas as pd\n",
    "\n",
    "# Extract text column from a dataframe\n",
    "df = pd.read_csv(os.path.join(\"data\", \"news.csv\"))\n",
    "df.head()[['publisher', 'title']]\n",
    "\n",
    "# Convert text column to lowercase\n",
    "df['title'] = df['title'].str.lower()\n",
    "df.head()[['publisher', 'title']]"
   ]
  },
  {
   "cell_type": "markdown",
   "metadata": {},
   "source": [
    "### Online Resource"
   ]
  },
  {
   "cell_type": "code",
   "execution_count": 1,
   "metadata": {
    "scrolled": true
   },
   "outputs": [
    {
     "name": "stdout",
     "output_type": "stream",
     "text": [
      "{\n",
      "    \"success\": {\n",
      "        \"total\": 1\n",
      "    },\n",
      "    \"contents\": {\n",
      "        \"quotes\": [\n",
      "            {\n",
      "                \"quote\": \"Vision without action is daydream. Action without vision is nightmare....\",\n",
      "                \"length\": \"73\",\n",
      "                \"author\": \"Japanese Proverb\",\n",
      "                \"tags\": [\n",
      "                    \"action\",\n",
      "                    \"inspire\",\n",
      "                    \"vision\"\n",
      "                ],\n",
      "                \"category\": \"inspire\",\n",
      "                \"date\": \"2018-12-07\",\n",
      "                \"permalink\": \"https://theysaidso.com/quote/1frNkKmnuhbKYO4OyURZyQeF/japanese-proverb-vision-without-action-is-daydream-action-without-vision-is-nigh\",\n",
      "                \"title\": \"Inspiring Quote of the day\",\n",
      "                \"background\": \"https://theysaidso.com/img/bgs/man_on_the_mountain.jpg\",\n",
      "                \"id\": \"1frNkKmnuhbKYO4OyURZyQeF\"\n",
      "            }\n",
      "        ],\n",
      "        \"copyright\": \"2017-19 theysaidso.com\"\n",
      "    }\n",
      "}\n",
      "Vision without action is daydream. Action without vision is nightmare.... \n",
      "-- Japanese Proverb\n"
     ]
    }
   ],
   "source": [
    "import requests\n",
    "import json\n",
    "\n",
    "# Fetch data from a REST API\n",
    "r = requests.get(\n",
    "    \"https://quotes.rest/qod.json\")\n",
    "res = r.json()\n",
    "print(json.dumps(res, indent=4))\n",
    "\n",
    "# Extract relevant object and field\n",
    "q = res[\"contents\"][\"quotes\"][0]\n",
    "print(q[\"quote\"], \"\\n--\", q[\"author\"])"
   ]
  },
  {
   "cell_type": "markdown",
   "metadata": {},
   "source": [
    "## Cleaning"
   ]
  },
  {
   "cell_type": "code",
   "execution_count": 2,
   "metadata": {
    "scrolled": true
   },
   "outputs": [
    {
     "name": "stdout",
     "output_type": "stream",
     "text": [
      "<html op=\"news\"><head><meta name=\"referrer\" content=\"origin\"><meta name=\"viewport\" content=\"width=device-width, initial-scale=1.0\"><link rel=\"stylesheet\" type=\"text/css\" href=\"news.css?TK7CA9qb7gsmO2gUqXJa\">\n",
      "            <link rel=\"shortcut icon\" href=\"favicon.ico\">\n",
      "          <link rel=\"alternate\" type=\"application/rss+xml\" title=\"RSS\" href=\"rss\">\n",
      "        <title>Hacker News</title></head><body><center><table id=\"hnmain\" border=\"0\" cellpadding=\"0\" cellspacing=\"0\" width=\"85%\" bgcolor=\"#f6f6ef\">\n",
      "        <tr><td bgcolor=\"#ff6600\"><table border=\"0\" cellpadding=\"0\" cellspacing=\"0\" width=\"100%\" style=\"padding:2px\"><tr><td style=\"width:18px;padding-right:4px\"><a href=\"https://news.ycombinator.com\"><img src=\"y18.gif\" width=\"18\" height=\"18\" style=\"border:1px white solid;\"></a></td>\n",
      "                  <td style=\"line-height:12pt; height:10px;\"><span class=\"pagetop\"><b class=\"hnname\"><a href=\"news\">Hacker News</a></b>\n",
      "              <a href=\"newest\">new</a> | <a href=\"newcomments\">comments</a> | <a href=\"show\">show</a> | <a href=\"ask\">ask</a> | <a href=\"jobs\">jobs</a> | <a href=\"submit\">submit</a>            </span></td><td style=\"text-align:right;padding-right:4px;\"><span class=\"pagetop\">\n",
      "                              <a href=\"login?goto=news\">login</a>\n",
      "                          </span></td>\n",
      "              </tr></table></td></tr>\n",
      "<tr style=\"height:10px\"></tr><tr><td><table border=\"0\" cellpadding=\"0\" cellspacing=\"0\" class=\"itemlist\">\n",
      "              <tr class='athing' id='18623898'>\n",
      "      <td align=\"right\" valign=\"top\" class=\"title\"><span class=\"rank\">1.</span></td>      <td valign=\"top\" class=\"votelinks\"><center><a id='up_18623898' href='vote?id=18623898&amp;how=up&amp;goto=news'><div class='votearrow' title='upvote'></div></a></center></td><td class=\"title\"><a href=\"https://www.city-journal.org/californias-high-speed-rail-project\" class=\"storylink\">Fast Train to Failure: California’s Mismanaged HSR (High-Speed Rail) Project</a><span class=\"sitebit comhead\"> (<a href=\"from?site=city-journal.org\"><span class=\"sitestr\">city-journal.org</span></a>)</span></td></tr><tr><td colspan=\"2\"></td><td class=\"subtext\">\n",
      "        <span class=\"score\" id=\"score_18623898\">31 points</span> by <a href=\"user?id=masonic\" class=\"hnuser\">masonic</a> <span class=\"age\"><a href=\"item?id=18623898\">1 hour ago</a></span> <span id=\"unv_18623898\"></span> | <a href=\"hide?id=18623898&amp;goto=news\">hide</a> | <a href=\"item?id=18623898\">18&nbsp;comments</a>              </td></tr>\n",
      "      <tr class=\"spacer\" style=\"height:5px\"></tr>\n",
      "                <tr class='athing' id='18622729'>\n",
      "      <td align=\"right\" valign=\"top\" class=\"title\"><span class=\"rank\">2.</span></td>      <td valign=\"top\" class=\"votelinks\"><center><a id='up_18622729' href='vote?id=18622729&amp;how=up&amp;goto=news'><div class='votearrow' title='upvote'></div></a></center></td><td class=\"title\"><a href=\"https://repl.it/site/blog/multi\" class=\"storylink\">Repl.it Multiplayer</a><span class=\"sitebit comhead\"> (<a href=\"from?site=repl.it\"><span class=\"sitestr\">repl.it</span></a>)</span></td></tr><tr><td colspan=\"2\"></td><td class=\"subtext\">\n",
      "        <span class=\"score\" id=\"score_18622729\">108 points</span> by <a href=\"user?id=rozhok\" class=\"hnuser\">rozhok</a> <span class=\"age\"><a href=\"item?id=18622729\">3 hours ago</a></span> <span id=\"unv_18622729\"></span> | <a href=\"hide?id=18622729&amp;goto=news\">hide</a> | <a href=\"item?id=18622729\">24&nbsp;comments</a>              </td></tr>\n",
      "      <tr class=\"spacer\" style=\"height:5px\"></tr>\n",
      "                <tr class='athing' id='18618365'>\n",
      "      <td align=\"right\" valign=\"top\" class=\"title\"><span class=\"rank\">3.</span></td>      <td valign=\"top\" class=\"votelinks\"><center><a id='up_18618365' href='vote?id=18618365&amp;how=up&amp;goto=news'><div class='votearrow' title='upvote'></div></a></center></td><td class=\"title\"><a href=\"https://electrek.co/2018/12/06/tesla-battery-report/\" class=\"storylink\">Tesla's giant battery saved $40M during its first year, report says</a><span class=\"sitebit comhead\"> (<a href=\"from?site=electrek.co\"><span class=\"sitestr\">electrek.co</span></a>)</span></td></tr><tr><td colspan=\"2\"></td><td class=\"subtext\">\n",
      "        <span class=\"score\" id=\"score_18618365\">574 points</span> by <a href=\"user?id=touristtam\" class=\"hnuser\">touristtam</a> <span class=\"age\"><a href=\"item?id=18618365\">10 hours ago</a></span> <span id=\"unv_18618365\"></span> | <a href=\"hide?id=18618365&amp;goto=news\">hide</a> | <a href=\"item?id=18618365\">244&nbsp;comments</a>              </td></tr>\n",
      "      <tr class=\"spacer\" style=\"height:5px\"></tr>\n",
      "                <tr class='athing' id='18622169'>\n",
      "      <td align=\"right\" valign=\"top\" class=\"title\"><span class=\"rank\">4.</span></td>      <td valign=\"top\" class=\"votelinks\"><center><a id='up_18622169' href='vote?id=18622169&amp;how=up&amp;goto=news'><div class='votearrow' title='upvote'></div></a></center></td><td class=\"title\"><a href=\"https://www.ericsson.com/en/press-releases/2018/12/update-on-software-issue-impacting-certain-customers\" class=\"storylink\">O2 outage due to expired Ericsson certificate</a><span class=\"sitebit comhead\"> (<a href=\"from?site=ericsson.com\"><span class=\"sitestr\">ericsson.com</span></a>)</span></td></tr><tr><td colspan=\"2\"></td><td class=\"subtext\">\n",
      "        <span class=\"score\" id=\"score_18622169\">100 points</span> by <a href=\"user?id=amaccuish\" class=\"hnuser\">amaccuish</a> <span class=\"age\"><a href=\"item?id=18622169\">4 hours ago</a></span> <span id=\"unv_18622169\"></span> | <a href=\"hide?id=18622169&amp;goto=news\">hide</a> | <a href=\"item?id=18622169\">65&nbsp;comments</a>              </td></tr>\n",
      "      <tr class=\"spacer\" style=\"height:5px\"></tr>\n",
      "                <tr class='athing' id='18618193'>\n",
      "      <td align=\"right\" valign=\"top\" class=\"title\"><span class=\"rank\">5.</span></td>      <td valign=\"top\" class=\"votelinks\"><center><a id='up_18618193' href='vote?id=18618193&amp;how=up&amp;goto=news'><div class='votearrow' title='upvote'></div></a></center></td><td class=\"title\"><a href=\"https://github.com/WICG/change-password-url\" class=\"storylink\">A well-known URL for changing passwords</a><span class=\"sitebit comhead\"> (<a href=\"from?site=github.com\"><span class=\"sitestr\">github.com</span></a>)</span></td></tr><tr><td colspan=\"2\"></td><td class=\"subtext\">\n",
      "        <span class=\"score\" id=\"score_18618193\">556 points</span> by <a href=\"user?id=fanf2\" class=\"hnuser\">fanf2</a> <span class=\"age\"><a href=\"item?id=18618193\">11 hours ago</a></span> <span id=\"unv_18618193\"></span> | <a href=\"hide?id=18618193&amp;goto=news\">hide</a> | <a href=\"item?id=18618193\">131&nbsp;comments</a>              </td></tr>\n",
      "      <tr class=\"spacer\" style=\"height:5px\"></tr>\n",
      "                <tr class='athing' id='18624364'>\n",
      "      <td align=\"right\" valign=\"top\" class=\"title\"><span class=\"rank\">6.</span></td>      <td></td><td class=\"title\"><a href=\"https://www.lumi.com/jobs/senior-ux-designer\" class=\"storylink\" rel=\"nofollow\">Lumi Is Hiring a Senior UX Designer in Los Angeles</a><span class=\"sitebit comhead\"> (<a href=\"from?site=lumi.com\"><span class=\"sitestr\">lumi.com</span></a>)</span></td></tr><tr><td colspan=\"2\"></td><td class=\"subtext\">\n",
      "        <span class=\"age\"><a href=\"item?id=18624364\">2 minutes ago</a></span> | <a href=\"hide?id=18624364&amp;goto=news\">hide</a>      </td></tr>\n",
      "      <tr class=\"spacer\" style=\"height:5px\"></tr>\n",
      "                <tr class='athing' id='18617791'>\n",
      "      <td align=\"right\" valign=\"top\" class=\"title\"><span class=\"rank\">7.</span></td>      <td valign=\"top\" class=\"votelinks\"><center><a id='up_18617791' href='vote?id=18617791&amp;how=up&amp;goto=news'><div class='votearrow' title='upvote'></div></a></center></td><td class=\"title\"><a href=\"https://www.reuters.com/article/us-lyft-ipo/ride-hailing-firm-lyft-inc-files-for-ipo-idUSKBN1O51AA\" class=\"storylink\">Lyft Files for IPO</a><span class=\"sitebit comhead\"> (<a href=\"from?site=reuters.com\"><span class=\"sitestr\">reuters.com</span></a>)</span></td></tr><tr><td colspan=\"2\"></td><td class=\"subtext\">\n",
      "        <span class=\"score\" id=\"score_18617791\">407 points</span> by <a href=\"user?id=svtrent\" class=\"hnuser\">svtrent</a> <span class=\"age\"><a href=\"item?id=18617791\">12 hours ago</a></span> <span id=\"unv_18617791\"></span> | <a href=\"hide?id=18617791&amp;goto=news\">hide</a> | <a href=\"item?id=18617791\">228&nbsp;comments</a>              </td></tr>\n",
      "      <tr class=\"spacer\" style=\"height:5px\"></tr>\n",
      "                <tr class='athing' id='18622516'>\n",
      "      <td align=\"right\" valign=\"top\" class=\"title\"><span class=\"rank\">8.</span></td>      <td valign=\"top\" class=\"votelinks\"><center><a id='up_18622516' href='vote?id=18622516&amp;how=up&amp;goto=news'><div class='votearrow' title='upvote'></div></a></center></td><td class=\"title\"><a href=\"https://blog.mozilla.org/blog/2018/12/06/goodbye-edge/\" class=\"storylink\">Goodbye, EdgeHTML</a><span class=\"sitebit comhead\"> (<a href=\"from?site=blog.mozilla.org\"><span class=\"sitestr\">blog.mozilla.org</span></a>)</span></td></tr><tr><td colspan=\"2\"></td><td class=\"subtext\">\n",
      "        <span class=\"score\" id=\"score_18622516\">594 points</span> by <a href=\"user?id=__michaelg\" class=\"hnuser\">__michaelg</a> <span class=\"age\"><a href=\"item?id=18622516\">3 hours ago</a></span> <span id=\"unv_18622516\"></span> | <a href=\"hide?id=18622516&amp;goto=news\">hide</a> | <a href=\"item?id=18622516\">356&nbsp;comments</a>              </td></tr>\n",
      "      <tr class=\"spacer\" style=\"height:5px\"></tr>\n",
      "                <tr class='athing' id='18616285'>\n",
      "      <td align=\"right\" valign=\"top\" class=\"title\"><span class=\"rank\">9.</span></td>      <td valign=\"top\" class=\"votelinks\"><center><a id='up_18616285' href='vote?id=18616285&amp;how=up&amp;goto=news'><div class='votearrow' title='upvote'></div></a></center></td><td class=\"title\"><a href=\"https://keystone-enclave.org\" class=\"storylink\">Keystone – Open-source Secure Hardware Enclave</a><span class=\"sitebit comhead\"> (<a href=\"from?site=keystone-enclave.org\"><span class=\"sitestr\">keystone-enclave.org</span></a>)</span></td></tr><tr><td colspan=\"2\"></td><td class=\"subtext\">\n",
      "        <span class=\"score\" id=\"score_18616285\">33 points</span> by <a href=\"user?id=nickik\" class=\"hnuser\">nickik</a> <span class=\"age\"><a href=\"item?id=18616285\">3 hours ago</a></span> <span id=\"unv_18616285\"></span> | <a href=\"hide?id=18616285&amp;goto=news\">hide</a> | <a href=\"item?id=18616285\">4&nbsp;comments</a>              </td></tr>\n",
      "      <tr class=\"spacer\" style=\"height:5px\"></tr>\n",
      "                <tr class='athing' id='18621513'>\n",
      "      <td align=\"right\" valign=\"top\" class=\"title\"><span class=\"rank\">10.</span></td>      <td valign=\"top\" class=\"votelinks\"><center><a id='up_18621513' href='vote?id=18621513&amp;how=up&amp;goto=news'><div class='votearrow' title='upvote'></div></a></center></td><td class=\"title\"><a href=\"https://www.bbc.com/news/technology-46456695\" class=\"storylink\">Facebook accused of striking 'secret deals over user data'</a><span class=\"sitebit comhead\"> (<a href=\"from?site=bbc.com\"><span class=\"sitestr\">bbc.com</span></a>)</span></td></tr><tr><td colspan=\"2\"></td><td class=\"subtext\">\n",
      "        <span class=\"score\" id=\"score_18621513\">295 points</span> by <a href=\"user?id=arduinomancer\" class=\"hnuser\">arduinomancer</a> <span class=\"age\"><a href=\"item?id=18621513\">5 hours ago</a></span> <span id=\"unv_18621513\"></span> | <a href=\"hide?id=18621513&amp;goto=news\">hide</a> | <a href=\"item?id=18621513\">121&nbsp;comments</a>              </td></tr>\n",
      "      <tr class=\"spacer\" style=\"height:5px\"></tr>\n",
      "                <tr class='athing' id='18618987'>\n",
      "      <td align=\"right\" valign=\"top\" class=\"title\"><span class=\"rank\">11.</span></td>      <td valign=\"top\" class=\"votelinks\"><center><a id='up_18618987' href='vote?id=18618987&amp;how=up&amp;goto=news'><div class='votearrow' title='upvote'></div></a></center></td><td class=\"title\"><a href=\"https://www.stateoftheart.ai/\" class=\"storylink\">StateOfTheArt.ai</a><span class=\"sitebit comhead\"> (<a href=\"from?site=stateoftheart.ai\"><span class=\"sitestr\">stateoftheart.ai</span></a>)</span></td></tr><tr><td colspan=\"2\"></td><td class=\"subtext\">\n",
      "        <span class=\"score\" id=\"score_18618987\">254 points</span> by <a href=\"user?id=EvgeniyZh\" class=\"hnuser\">EvgeniyZh</a> <span class=\"age\"><a href=\"item?id=18618987\">9 hours ago</a></span> <span id=\"unv_18618987\"></span> | <a href=\"hide?id=18618987&amp;goto=news\">hide</a> | <a href=\"item?id=18618987\">22&nbsp;comments</a>              </td></tr>\n",
      "      <tr class=\"spacer\" style=\"height:5px\"></tr>\n",
      "                <tr class='athing' id='18619010'>\n",
      "      <td align=\"right\" valign=\"top\" class=\"title\"><span class=\"rank\">12.</span></td>      <td valign=\"top\" class=\"votelinks\"><center><a id='up_18619010' href='vote?id=18619010&amp;how=up&amp;goto=news'><div class='votearrow' title='upvote'></div></a></center></td><td class=\"title\"><a href=\"https://www.census.gov/newsroom/press-releases/2018/2013-2017-acs-5year.html\" class=\"storylink\">Five-Year Trends Available for Median Income, Poverty and Internet Use</a><span class=\"sitebit comhead\"> (<a href=\"from?site=census.gov\"><span class=\"sitestr\">census.gov</span></a>)</span></td></tr><tr><td colspan=\"2\"></td><td class=\"subtext\">\n",
      "        <span class=\"score\" id=\"score_18619010\">165 points</span> by <a href=\"user?id=infodocket\" class=\"hnuser\">infodocket</a> <span class=\"age\"><a href=\"item?id=18619010\">9 hours ago</a></span> <span id=\"unv_18619010\"></span> | <a href=\"hide?id=18619010&amp;goto=news\">hide</a> | <a href=\"item?id=18619010\">97&nbsp;comments</a>              </td></tr>\n",
      "      <tr class=\"spacer\" style=\"height:5px\"></tr>\n",
      "                <tr class='athing' id='18621393'>\n",
      "      <td align=\"right\" valign=\"top\" class=\"title\"><span class=\"rank\">13.</span></td>      <td valign=\"top\" class=\"votelinks\"><center><a id='up_18621393' href='vote?id=18621393&amp;how=up&amp;goto=news'><div class='votearrow' title='upvote'></div></a></center></td><td class=\"title\"><a href=\"http://lists.gnu.org/archive/html/info-gnu/2018-08/msg00006.html\" class=\"storylink\">GNU Mes 0.17: towards bootstrappable builds for GuixSD</a><span class=\"sitebit comhead\"> (<a href=\"from?site=gnu.org\"><span class=\"sitestr\">gnu.org</span></a>)</span></td></tr><tr><td colspan=\"2\"></td><td class=\"subtext\">\n",
      "        <span class=\"score\" id=\"score_18621393\">59 points</span> by <a href=\"user?id=fanf2\" class=\"hnuser\">fanf2</a> <span class=\"age\"><a href=\"item?id=18621393\">5 hours ago</a></span> <span id=\"unv_18621393\"></span> | <a href=\"hide?id=18621393&amp;goto=news\">hide</a> | <a href=\"item?id=18621393\">6&nbsp;comments</a>              </td></tr>\n",
      "      <tr class=\"spacer\" style=\"height:5px\"></tr>\n",
      "                <tr class='athing' id='18620978'>\n",
      "      <td align=\"right\" valign=\"top\" class=\"title\"><span class=\"rank\">14.</span></td>      <td valign=\"top\" class=\"votelinks\"><center><a id='up_18620978' href='vote?id=18620978&amp;how=up&amp;goto=news'><div class='votearrow' title='upvote'></div></a></center></td><td class=\"title\"><a href=\"https://deepmind.com/blog/alphazero-shedding-new-light-grand-games-chess-shogi-and-go/\" class=\"storylink\">Show HN: AlphaZero Science paper</a><span class=\"sitebit comhead\"> (<a href=\"from?site=deepmind.com\"><span class=\"sitestr\">deepmind.com</span></a>)</span></td></tr><tr><td colspan=\"2\"></td><td class=\"subtext\">\n",
      "        <span class=\"score\" id=\"score_18620978\">81 points</span> by <a href=\"user?id=Inufu\" class=\"hnuser\">Inufu</a> <span class=\"age\"><a href=\"item?id=18620978\">6 hours ago</a></span> <span id=\"unv_18620978\"></span> | <a href=\"hide?id=18620978&amp;goto=news\">hide</a> | <a href=\"item?id=18620978\">30&nbsp;comments</a>              </td></tr>\n",
      "      <tr class=\"spacer\" style=\"height:5px\"></tr>\n",
      "                <tr class='athing' id='18622062'>\n",
      "      <td align=\"right\" valign=\"top\" class=\"title\"><span class=\"rank\">15.</span></td>      <td valign=\"top\" class=\"votelinks\"><center><a id='up_18622062' href='vote?id=18622062&amp;how=up&amp;goto=news'><div class='votearrow' title='upvote'></div></a></center></td><td class=\"title\"><a href=\"https://blog.binaryedge.io/2018/12/06/kubernetes-being-hijacked-worldwide/\" class=\"storylink\">Kubernetes clusters being hijacked to mine cryptocurrencies</a><span class=\"sitebit comhead\"> (<a href=\"from?site=binaryedge.io\"><span class=\"sitestr\">binaryedge.io</span></a>)</span></td></tr><tr><td colspan=\"2\"></td><td class=\"subtext\">\n",
      "        <span class=\"score\" id=\"score_18622062\">65 points</span> by <a href=\"user?id=igama\" class=\"hnuser\">igama</a> <span class=\"age\"><a href=\"item?id=18622062\">4 hours ago</a></span> <span id=\"unv_18622062\"></span> | <a href=\"hide?id=18622062&amp;goto=news\">hide</a> | <a href=\"item?id=18622062\">16&nbsp;comments</a>              </td></tr>\n",
      "      <tr class=\"spacer\" style=\"height:5px\"></tr>\n",
      "                <tr class='athing' id='18620309'>\n",
      "      <td align=\"right\" valign=\"top\" class=\"title\"><span class=\"rank\">16.</span></td>      <td valign=\"top\" class=\"votelinks\"><center><a id='up_18620309' href='vote?id=18620309&amp;how=up&amp;goto=news'><div class='votearrow' title='upvote'></div></a></center></td><td class=\"title\"><a href=\"http://tonsky.me/blog/clojurefmt\" class=\"storylink\">Better Clojure formatting</a><span class=\"sitebit comhead\"> (<a href=\"from?site=tonsky.me\"><span class=\"sitestr\">tonsky.me</span></a>)</span></td></tr><tr><td colspan=\"2\"></td><td class=\"subtext\">\n",
      "        <span class=\"score\" id=\"score_18620309\">36 points</span> by <a href=\"user?id=harperlee\" class=\"hnuser\">harperlee</a> <span class=\"age\"><a href=\"item?id=18620309\">4 hours ago</a></span> <span id=\"unv_18620309\"></span> | <a href=\"hide?id=18620309&amp;goto=news\">hide</a> | <a href=\"item?id=18620309\">11&nbsp;comments</a>              </td></tr>\n",
      "      <tr class=\"spacer\" style=\"height:5px\"></tr>\n",
      "                <tr class='athing' id='18619754'>\n",
      "      <td align=\"right\" valign=\"top\" class=\"title\"><span class=\"rank\">17.</span></td>      <td valign=\"top\" class=\"votelinks\"><center><a id='up_18619754' href='vote?id=18619754&amp;how=up&amp;goto=news'><div class='votearrow' title='upvote'></div></a></center></td><td class=\"title\"><a href=\"https://hacks.mozilla.org/2018/12/rust-2018-is-here?\" class=\"storylink\">Rust 2018 is here, but what is it?</a><span class=\"sitebit comhead\"> (<a href=\"from?site=hacks.mozilla.org\"><span class=\"sitestr\">hacks.mozilla.org</span></a>)</span></td></tr><tr><td colspan=\"2\"></td><td class=\"subtext\">\n",
      "        <span class=\"score\" id=\"score_18619754\">394 points</span> by <a href=\"user?id=jsheard\" class=\"hnuser\">jsheard</a> <span class=\"age\"><a href=\"item?id=18619754\">8 hours ago</a></span> <span id=\"unv_18619754\"></span> | <a href=\"hide?id=18619754&amp;goto=news\">hide</a> | <a href=\"item?id=18619754\">131&nbsp;comments</a>              </td></tr>\n",
      "      <tr class=\"spacer\" style=\"height:5px\"></tr>\n",
      "                <tr class='athing' id='18623527'>\n",
      "      <td align=\"right\" valign=\"top\" class=\"title\"><span class=\"rank\">18.</span></td>      <td valign=\"top\" class=\"votelinks\"><center><a id='up_18623527' href='vote?id=18623527&amp;how=up&amp;goto=news'><div class='votearrow' title='upvote'></div></a></center></td><td class=\"title\"><a href=\"https://blog.0day.rocks/france-might-be-losing-its-first-big-information-war-2f3ab8b82fbb\" class=\"storylink\">France might be losing its first big information war</a><span class=\"sitebit comhead\"> (<a href=\"from?site=0day.rocks\"><span class=\"sitestr\">0day.rocks</span></a>)</span></td></tr><tr><td colspan=\"2\"></td><td class=\"subtext\">\n",
      "        <span class=\"score\" id=\"score_18623527\">95 points</span> by <a href=\"user?id=liotier\" class=\"hnuser\">liotier</a> <span class=\"age\"><a href=\"item?id=18623527\">2 hours ago</a></span> <span id=\"unv_18623527\"></span> | <a href=\"hide?id=18623527&amp;goto=news\">hide</a> | <a href=\"item?id=18623527\">105&nbsp;comments</a>              </td></tr>\n",
      "      <tr class=\"spacer\" style=\"height:5px\"></tr>\n",
      "                <tr class='athing' id='18620404'>\n",
      "      <td align=\"right\" valign=\"top\" class=\"title\"><span class=\"rank\">19.</span></td>      <td valign=\"top\" class=\"votelinks\"><center><a id='up_18620404' href='vote?id=18620404&amp;how=up&amp;goto=news'><div class='votearrow' title='upvote'></div></a></center></td><td class=\"title\"><a href=\"https://triplebyte.com/blog/editor-report-the-rise-of-visual-studio-code\" class=\"storylink\">The Rise of Microsoft Visual Studio Code</a><span class=\"sitebit comhead\"> (<a href=\"from?site=triplebyte.com\"><span class=\"sitestr\">triplebyte.com</span></a>)</span></td></tr><tr><td colspan=\"2\"></td><td class=\"subtext\">\n",
      "        <span class=\"score\" id=\"score_18620404\">278 points</span> by <a href=\"user?id=Harj\" class=\"hnuser\">Harj</a> <span class=\"age\"><a href=\"item?id=18620404\">7 hours ago</a></span> <span id=\"unv_18620404\"></span> | <a href=\"hide?id=18620404&amp;goto=news\">hide</a> | <a href=\"item?id=18620404\">194&nbsp;comments</a>              </td></tr>\n",
      "      <tr class=\"spacer\" style=\"height:5px\"></tr>\n",
      "                <tr class='athing' id='18617870'>\n",
      "      <td align=\"right\" valign=\"top\" class=\"title\"><span class=\"rank\">20.</span></td>      <td valign=\"top\" class=\"votelinks\"><center><a id='up_18617870' href='vote?id=18617870&amp;how=up&amp;goto=news'><div class='votearrow' title='upvote'></div></a></center></td><td class=\"title\"><a href=\"https://www.williamjbowman.com/blog/2018/01/19/untyped-programs-don-t-exist/\" class=\"storylink\" rel=\"nofollow\">Untyped Programs Don’t Exist</a><span class=\"sitebit comhead\"> (<a href=\"from?site=williamjbowman.com\"><span class=\"sitestr\">williamjbowman.com</span></a>)</span></td></tr><tr><td colspan=\"2\"></td><td class=\"subtext\">\n",
      "        <span class=\"score\" id=\"score_18617870\">4 points</span> by <a href=\"user?id=gbrown_\" class=\"hnuser\">gbrown_</a> <span class=\"age\"><a href=\"item?id=18617870\">1 hour ago</a></span> <span id=\"unv_18617870\"></span> | <a href=\"hide?id=18617870&amp;goto=news\">hide</a> | <a href=\"item?id=18617870\">1&nbsp;comment</a>              </td></tr>\n",
      "      <tr class=\"spacer\" style=\"height:5px\"></tr>\n",
      "                <tr class='athing' id='18621070'>\n",
      "      <td align=\"right\" valign=\"top\" class=\"title\"><span class=\"rank\">21.</span></td>      <td valign=\"top\" class=\"votelinks\"><center><a id='up_18621070' href='vote?id=18621070&amp;how=up&amp;goto=news'><div class='votearrow' title='upvote'></div></a></center></td><td class=\"title\"><a href=\"https://go.armis.com/hubfs/BLEEDINGBIT%20-%20Technical%20White%20Paper.pdf\" class=\"storylink\">BleedingBit: The hidden attack surface within BLE chips [pdf]</a><span class=\"sitebit comhead\"> (<a href=\"from?site=armis.com\"><span class=\"sitestr\">armis.com</span></a>)</span></td></tr><tr><td colspan=\"2\"></td><td class=\"subtext\">\n",
      "        <span class=\"score\" id=\"score_18621070\">45 points</span> by <a href=\"user?id=keyme\" class=\"hnuser\">keyme</a> <span class=\"age\"><a href=\"item?id=18621070\">6 hours ago</a></span> <span id=\"unv_18621070\"></span> | <a href=\"hide?id=18621070&amp;goto=news\">hide</a> | <a href=\"item?id=18621070\">6&nbsp;comments</a>              </td></tr>\n",
      "      <tr class=\"spacer\" style=\"height:5px\"></tr>\n",
      "                <tr class='athing' id='18624143'>\n",
      "      <td align=\"right\" valign=\"top\" class=\"title\"><span class=\"rank\">22.</span></td>      <td valign=\"top\" class=\"votelinks\"><center><a id='up_18624143' href='vote?id=18624143&amp;how=up&amp;goto=news'><div class='votearrow' title='upvote'></div></a></center></td><td class=\"title\"><a href=\"https://www.anandtech.com/show/13681/lg-gram-17-available-ultra-thin-laptop-with-a-17-inch-display\" class=\"storylink\" rel=\"nofollow\">LG Releases Gram 17 Laptop with a 17.3-Inch Display</a><span class=\"sitebit comhead\"> (<a href=\"from?site=anandtech.com\"><span class=\"sitestr\">anandtech.com</span></a>)</span></td></tr><tr><td colspan=\"2\"></td><td class=\"subtext\">\n",
      "        <span class=\"score\" id=\"score_18624143\">5 points</span> by <a href=\"user?id=p1esk\" class=\"hnuser\">p1esk</a> <span class=\"age\"><a href=\"item?id=18624143\">41 minutes ago</a></span> <span id=\"unv_18624143\"></span> | <a href=\"hide?id=18624143&amp;goto=news\">hide</a> | <a href=\"item?id=18624143\">discuss</a>              </td></tr>\n",
      "      <tr class=\"spacer\" style=\"height:5px\"></tr>\n",
      "                <tr class='athing' id='18613505'>\n",
      "      <td align=\"right\" valign=\"top\" class=\"title\"><span class=\"rank\">23.</span></td>      <td valign=\"top\" class=\"votelinks\"><center><a id='up_18613505' href='vote?id=18613505&amp;how=up&amp;goto=news'><div class='votearrow' title='upvote'></div></a></center></td><td class=\"title\"><a href=\"http://www.htspweb.co.uk/fandf/romart/het/fanart.htm\" class=\"storylink\">Pre-War Covers for Novae Terrae, the Magazine of the Science Fiction Association</a><span class=\"sitebit comhead\"> (<a href=\"from?site=htspweb.co.uk\"><span class=\"sitestr\">htspweb.co.uk</span></a>)</span></td></tr><tr><td colspan=\"2\"></td><td class=\"subtext\">\n",
      "        <span class=\"score\" id=\"score_18613505\">8 points</span> by <a href=\"user?id=benbreen\" class=\"hnuser\">benbreen</a> <span class=\"age\"><a href=\"item?id=18613505\">2 hours ago</a></span> <span id=\"unv_18613505\"></span> | <a href=\"hide?id=18613505&amp;goto=news\">hide</a> | <a href=\"item?id=18613505\">discuss</a>              </td></tr>\n",
      "      <tr class=\"spacer\" style=\"height:5px\"></tr>\n",
      "                <tr class='athing' id='18612282'>\n",
      "      <td align=\"right\" valign=\"top\" class=\"title\"><span class=\"rank\">24.</span></td>      <td valign=\"top\" class=\"votelinks\"><center><a id='up_18612282' href='vote?id=18612282&amp;how=up&amp;goto=news'><div class='votearrow' title='upvote'></div></a></center></td><td class=\"title\"><a href=\"https://slate.com/technology/2018/11/civil-war-photo-sleuth-facial-recognition.html\" class=\"storylink\">Historians are using facial recognition to identify people in Civil War photos</a><span class=\"sitebit comhead\"> (<a href=\"from?site=slate.com\"><span class=\"sitestr\">slate.com</span></a>)</span></td></tr><tr><td colspan=\"2\"></td><td class=\"subtext\">\n",
      "        <span class=\"score\" id=\"score_18612282\">28 points</span> by <a href=\"user?id=prismatic\" class=\"hnuser\">prismatic</a> <span class=\"age\"><a href=\"item?id=18612282\">4 hours ago</a></span> <span id=\"unv_18612282\"></span> | <a href=\"hide?id=18612282&amp;goto=news\">hide</a> | <a href=\"item?id=18612282\">25&nbsp;comments</a>              </td></tr>\n",
      "      <tr class=\"spacer\" style=\"height:5px\"></tr>\n",
      "                <tr class='athing' id='18617518'>\n",
      "      <td align=\"right\" valign=\"top\" class=\"title\"><span class=\"rank\">25.</span></td>      <td valign=\"top\" class=\"votelinks\"><center><a id='up_18617518' href='vote?id=18617518&amp;how=up&amp;goto=news'><div class='votearrow' title='upvote'></div></a></center></td><td class=\"title\"><a href=\"https://hackaday.com/2018/12/06/your-usb-serial-adapter-just-became-a-sdr/\" class=\"storylink\">Serial Port SDR</a><span class=\"sitebit comhead\"> (<a href=\"from?site=hackaday.com\"><span class=\"sitestr\">hackaday.com</span></a>)</span></td></tr><tr><td colspan=\"2\"></td><td class=\"subtext\">\n",
      "        <span class=\"score\" id=\"score_18617518\">186 points</span> by <a href=\"user?id=walterbell\" class=\"hnuser\">walterbell</a> <span class=\"age\"><a href=\"item?id=18617518\">12 hours ago</a></span> <span id=\"unv_18617518\"></span> | <a href=\"hide?id=18617518&amp;goto=news\">hide</a> | <a href=\"item?id=18617518\">73&nbsp;comments</a>              </td></tr>\n",
      "      <tr class=\"spacer\" style=\"height:5px\"></tr>\n",
      "                <tr class='athing' id='18617798'>\n",
      "      <td align=\"right\" valign=\"top\" class=\"title\"><span class=\"rank\">26.</span></td>      <td valign=\"top\" class=\"votelinks\"><center><a id='up_18617798' href='vote?id=18617798&amp;how=up&amp;goto=news'><div class='votearrow' title='upvote'></div></a></center></td><td class=\"title\"><a href=\"https://genius.engineering/faster-and-simpler-with-the-command-line-deep-comparing-two-5gb-json-files-3x-faster-by-ditching-the-code/\" class=\"storylink\">Faster and simpler with the command line: deep-comparing JSON files with jq</a><span class=\"sitebit comhead\"> (<a href=\"from?site=genius.engineering\"><span class=\"sitestr\">genius.engineering</span></a>)</span></td></tr><tr><td colspan=\"2\"></td><td class=\"subtext\">\n",
      "        <span class=\"score\" id=\"score_18617798\">164 points</span> by <a href=\"user?id=wwarnerandrew\" class=\"hnuser\">wwarnerandrew</a> <span class=\"age\"><a href=\"item?id=18617798\">12 hours ago</a></span> <span id=\"unv_18617798\"></span> | <a href=\"hide?id=18617798&amp;goto=news\">hide</a> | <a href=\"item?id=18617798\">71&nbsp;comments</a>              </td></tr>\n",
      "      <tr class=\"spacer\" style=\"height:5px\"></tr>\n",
      "                <tr class='athing' id='18617681'>\n",
      "      <td align=\"right\" valign=\"top\" class=\"title\"><span class=\"rank\">27.</span></td>      <td valign=\"top\" class=\"votelinks\"><center><a id='up_18617681' href='vote?id=18617681&amp;how=up&amp;goto=news'><div class='votearrow' title='upvote'></div></a></center></td><td class=\"title\"><a href=\"https://www.sciencedirect.com/science/article/pii/S1053811918300673\" class=\"storylink\">Hacking into Human Autonomic Functions</a><span class=\"sitebit comhead\"> (<a href=\"from?site=sciencedirect.com\"><span class=\"sitestr\">sciencedirect.com</span></a>)</span></td></tr><tr><td colspan=\"2\"></td><td class=\"subtext\">\n",
      "        <span class=\"score\" id=\"score_18617681\">33 points</span> by <a href=\"user?id=labatbell\" class=\"hnuser\">labatbell</a> <span class=\"age\"><a href=\"item?id=18617681\">5 hours ago</a></span> <span id=\"unv_18617681\"></span> | <a href=\"hide?id=18617681&amp;goto=news\">hide</a> | <a href=\"item?id=18617681\">3&nbsp;comments</a>              </td></tr>\n",
      "      <tr class=\"spacer\" style=\"height:5px\"></tr>\n",
      "                <tr class='athing' id='18620560'>\n",
      "      <td align=\"right\" valign=\"top\" class=\"title\"><span class=\"rank\">28.</span></td>      <td valign=\"top\" class=\"votelinks\"><center><a id='up_18620560' href='vote?id=18620560&amp;how=up&amp;goto=news'><div class='votearrow' title='upvote'></div></a></center></td><td class=\"title\"><a href=\"https://www.nytimes.com/2018/12/06/style/water-bed-founder.html\" class=\"storylink\">The Squishiest, Sweetest Sleep</a><span class=\"sitebit comhead\"> (<a href=\"from?site=nytimes.com\"><span class=\"sitestr\">nytimes.com</span></a>)</span></td></tr><tr><td colspan=\"2\"></td><td class=\"subtext\">\n",
      "        <span class=\"score\" id=\"score_18620560\">44 points</span> by <a href=\"user?id=kawera\" class=\"hnuser\">kawera</a> <span class=\"age\"><a href=\"item?id=18620560\">7 hours ago</a></span> <span id=\"unv_18620560\"></span> | <a href=\"hide?id=18620560&amp;goto=news\">hide</a> | <a href=\"item?id=18620560\">30&nbsp;comments</a>              </td></tr>\n",
      "      <tr class=\"spacer\" style=\"height:5px\"></tr>\n",
      "                <tr class='athing' id='18620012'>\n",
      "      <td align=\"right\" valign=\"top\" class=\"title\"><span class=\"rank\">29.</span></td>      <td valign=\"top\" class=\"votelinks\"><center><a id='up_18620012' href='vote?id=18620012&amp;how=up&amp;goto=news'><div class='votearrow' title='upvote'></div></a></center></td><td class=\"title\"><a href=\"https://blog.rescuetime.com/workplace-routines-and-rituals/\" class=\"storylink\">Why you need both rituals and routines to power your workday</a><span class=\"sitebit comhead\"> (<a href=\"from?site=rescuetime.com\"><span class=\"sitestr\">rescuetime.com</span></a>)</span></td></tr><tr><td colspan=\"2\"></td><td class=\"subtext\">\n",
      "        <span class=\"score\" id=\"score_18620012\">48 points</span> by <a href=\"user?id=jorymackay\" class=\"hnuser\">jorymackay</a> <span class=\"age\"><a href=\"item?id=18620012\">8 hours ago</a></span> <span id=\"unv_18620012\"></span> | <a href=\"hide?id=18620012&amp;goto=news\">hide</a> | <a href=\"item?id=18620012\">3&nbsp;comments</a>              </td></tr>\n",
      "      <tr class=\"spacer\" style=\"height:5px\"></tr>\n",
      "                <tr class='athing' id='18623230'>\n",
      "      <td align=\"right\" valign=\"top\" class=\"title\"><span class=\"rank\">30.</span></td>      <td valign=\"top\" class=\"votelinks\"><center><a id='up_18623230' href='vote?id=18623230&amp;how=up&amp;goto=news'><div class='votearrow' title='upvote'></div></a></center></td><td class=\"title\"><a href=\"https://webkit.org/blog/8517/release-notes-for-safari-technology-preview-71/\" class=\"storylink\">Release Notes for Safari Technology Preview 71</a><span class=\"sitebit comhead\"> (<a href=\"from?site=webkit.org\"><span class=\"sitestr\">webkit.org</span></a>)</span></td></tr><tr><td colspan=\"2\"></td><td class=\"subtext\">\n",
      "        <span class=\"score\" id=\"score_18623230\">29 points</span> by <a href=\"user?id=ecesena\" class=\"hnuser\">ecesena</a> <span class=\"age\"><a href=\"item?id=18623230\">2 hours ago</a></span> <span id=\"unv_18623230\"></span> | <a href=\"hide?id=18623230&amp;goto=news\">hide</a> | <a href=\"item?id=18623230\">7&nbsp;comments</a>              </td></tr>\n",
      "      <tr class=\"spacer\" style=\"height:5px\"></tr>\n",
      "            <tr class=\"morespace\" style=\"height:10px\"></tr><tr><td colspan=\"2\"></td><td class=\"title\"><a href=\"news?p=2\" class=\"morelink\" rel=\"nofollow\">More</a></td></tr>\n",
      "  </table>\n",
      "</td></tr>\n",
      "<tr><td><img src=\"s.gif\" height=\"10\" width=\"0\"><table width=\"100%\" cellspacing=\"0\" cellpadding=\"1\"><tr><td bgcolor=\"#ff6600\"></td></tr></table><br><center><span class=\"yclinks\"><a href=\"newsguidelines.html\">Guidelines</a>\n",
      "        | <a href=\"newsfaq.html\">FAQ</a>\n",
      "        | <a href=\"mailto:hn@ycombinator.com\">Support</a>\n",
      "        | <a href=\"https://github.com/HackerNews/API\">API</a>\n",
      "        | <a href=\"security.html\">Security</a>\n",
      "        | <a href=\"lists\">Lists</a>\n",
      "        | <a href=\"bookmarklet.html\" rel=\"nofollow\">Bookmarklet</a>\n",
      "        | <a href=\"http://www.ycombinator.com/legal/\">Legal</a>\n",
      "        | <a href=\"http://www.ycombinator.com/apply/\">Apply to YC</a>\n",
      "        | <a href=\"mailto:hn@ycombinator.com\">Contact</a></span><br><br><form method=\"get\" action=\"//hn.algolia.com/\">Search:\n",
      "          <input type=\"text\" name=\"q\" value=\"\" size=\"17\" autocorrect=\"off\" spellcheck=\"false\" autocapitalize=\"off\" autocomplete=\"false\"></form>\n",
      "            </center></td></tr>\n",
      "      </table></center></body><script type='text/javascript' src='hn.js?TK7CA9qb7gsmO2gUqXJa'></script>\n",
      "  </html>\n",
      "\n"
     ]
    }
   ],
   "source": [
    "import requests\n",
    "\n",
    "# Fetch a web page\n",
    "r = requests.get(\"https://news.ycombinator.com\")\n",
    "print(r.text)"
   ]
  },
  {
   "cell_type": "code",
   "execution_count": 3,
   "metadata": {},
   "outputs": [
    {
     "name": "stdout",
     "output_type": "stream",
     "text": [
      "\n",
      "            \n",
      "          \n",
      "        Hacker News\n",
      "        \n",
      "                  Hacker News\n",
      "              new | comments | show | ask | jobs | submit            \n",
      "                              login\n",
      "                          \n",
      "              \n",
      "\n",
      "              \n",
      "      1.      Fast Train to Failure: California’s Mismanaged HSR (High-Speed Rail) Project (city-journal.org)\n",
      "        31 points by masonic 1 hour ago  | hide | 18&nbsp;comments              \n",
      "      \n",
      "                \n",
      "      2.      Repl.it Multiplayer (repl.it)\n",
      "        108 points by rozhok 3 hours ago  | hide | 24&nbsp;comments              \n",
      "      \n",
      "                \n",
      "      3.      Tesla's giant battery saved $40M during its first year, report says (electrek.co)\n",
      "        574 points by touristtam 10 hours ago  | hide | 244&nbsp;comments              \n",
      "      \n",
      "                \n",
      "      4.      O2 outage due to expired Ericsson certificate (ericsson.com)\n",
      "        100 points by amaccuish 4 hours ago  | hide | 65&nbsp;comments              \n",
      "      \n",
      "                \n",
      "      5.      A well-known URL for changing passwords (github.com)\n",
      "        556 points by fanf2 11 hours ago  | hide | 131&nbsp;comments              \n",
      "      \n",
      "                \n",
      "      6.      Lumi Is Hiring a Senior UX Designer in Los Angeles (lumi.com)\n",
      "        2 minutes ago | hide      \n",
      "      \n",
      "                \n",
      "      7.      Lyft Files for IPO (reuters.com)\n",
      "        407 points by svtrent 12 hours ago  | hide | 228&nbsp;comments              \n",
      "      \n",
      "                \n",
      "      8.      Goodbye, EdgeHTML (blog.mozilla.org)\n",
      "        594 points by __michaelg 3 hours ago  | hide | 356&nbsp;comments              \n",
      "      \n",
      "                \n",
      "      9.      Keystone – Open-source Secure Hardware Enclave (keystone-enclave.org)\n",
      "        33 points by nickik 3 hours ago  | hide | 4&nbsp;comments              \n",
      "      \n",
      "                \n",
      "      10.      Facebook accused of striking 'secret deals over user data' (bbc.com)\n",
      "        295 points by arduinomancer 5 hours ago  | hide | 121&nbsp;comments              \n",
      "      \n",
      "                \n",
      "      11.      StateOfTheArt.ai (stateoftheart.ai)\n",
      "        254 points by EvgeniyZh 9 hours ago  | hide | 22&nbsp;comments              \n",
      "      \n",
      "                \n",
      "      12.      Five-Year Trends Available for Median Income, Poverty and Internet Use (census.gov)\n",
      "        165 points by infodocket 9 hours ago  | hide | 97&nbsp;comments              \n",
      "      \n",
      "                \n",
      "      13.      GNU Mes 0.17: towards bootstrappable builds for GuixSD (gnu.org)\n",
      "        59 points by fanf2 5 hours ago  | hide | 6&nbsp;comments              \n",
      "      \n",
      "                \n",
      "      14.      Show HN: AlphaZero Science paper (deepmind.com)\n",
      "        81 points by Inufu 6 hours ago  | hide | 30&nbsp;comments              \n",
      "      \n",
      "                \n",
      "      15.      Kubernetes clusters being hijacked to mine cryptocurrencies (binaryedge.io)\n",
      "        65 points by igama 4 hours ago  | hide | 16&nbsp;comments              \n",
      "      \n",
      "                \n",
      "      16.      Better Clojure formatting (tonsky.me)\n",
      "        36 points by harperlee 4 hours ago  | hide | 11&nbsp;comments              \n",
      "      \n",
      "                \n",
      "      17.      Rust 2018 is here, but what is it? (hacks.mozilla.org)\n",
      "        394 points by jsheard 8 hours ago  | hide | 131&nbsp;comments              \n",
      "      \n",
      "                \n",
      "      18.      France might be losing its first big information war (0day.rocks)\n",
      "        95 points by liotier 2 hours ago  | hide | 105&nbsp;comments              \n",
      "      \n",
      "                \n",
      "      19.      The Rise of Microsoft Visual Studio Code (triplebyte.com)\n",
      "        278 points by Harj 7 hours ago  | hide | 194&nbsp;comments              \n",
      "      \n",
      "                \n",
      "      20.      Untyped Programs Don’t Exist (williamjbowman.com)\n",
      "        4 points by gbrown_ 1 hour ago  | hide | 1&nbsp;comment              \n",
      "      \n",
      "                \n",
      "      21.      BleedingBit: The hidden attack surface within BLE chips [pdf] (armis.com)\n",
      "        45 points by keyme 6 hours ago  | hide | 6&nbsp;comments              \n",
      "      \n",
      "                \n",
      "      22.      LG Releases Gram 17 Laptop with a 17.3-Inch Display (anandtech.com)\n",
      "        5 points by p1esk 41 minutes ago  | hide | discuss              \n",
      "      \n",
      "                \n",
      "      23.      Pre-War Covers for Novae Terrae, the Magazine of the Science Fiction Association (htspweb.co.uk)\n",
      "        8 points by benbreen 2 hours ago  | hide | discuss              \n",
      "      \n",
      "                \n",
      "      24.      Historians are using facial recognition to identify people in Civil War photos (slate.com)\n",
      "        28 points by prismatic 4 hours ago  | hide | 25&nbsp;comments              \n",
      "      \n",
      "                \n",
      "      25.      Serial Port SDR (hackaday.com)\n",
      "        186 points by walterbell 12 hours ago  | hide | 73&nbsp;comments              \n",
      "      \n",
      "                \n",
      "      26.      Faster and simpler with the command line: deep-comparing JSON files with jq (genius.engineering)\n",
      "        164 points by wwarnerandrew 12 hours ago  | hide | 71&nbsp;comments              \n",
      "      \n",
      "                \n",
      "      27.      Hacking into Human Autonomic Functions (sciencedirect.com)\n",
      "        33 points by labatbell 5 hours ago  | hide | 3&nbsp;comments              \n",
      "      \n",
      "                \n",
      "      28.      The Squishiest, Sweetest Sleep (nytimes.com)\n",
      "        44 points by kawera 7 hours ago  | hide | 30&nbsp;comments              \n",
      "      \n",
      "                \n",
      "      29.      Why you need both rituals and routines to power your workday (rescuetime.com)\n",
      "        48 points by jorymackay 8 hours ago  | hide | 3&nbsp;comments              \n",
      "      \n",
      "                \n",
      "      30.      Release Notes for Safari Technology Preview 71 (webkit.org)\n",
      "        29 points by ecesena 2 hours ago  | hide | 7&nbsp;comments              \n",
      "      \n",
      "            More\n",
      "  \n",
      "\n",
      "Guidelines\n",
      "        | FAQ\n",
      "        | Support\n",
      "        | API\n",
      "        | Security\n",
      "        | Lists\n",
      "        | Bookmarklet\n",
      "        | Legal\n",
      "        | Apply to YC\n",
      "        | ContactSearch:\n",
      "          \n",
      "            \n",
      "      \n",
      "  \n",
      "\n"
     ]
    }
   ],
   "source": [
    "import re\n",
    "\n",
    "# Remove HTML tags using RegEx\n",
    "pattern = re.compile(r'<.*?>')  # tags look like <...>\n",
    "print(pattern.sub('', r.text))  # replace them with blank"
   ]
  },
  {
   "cell_type": "code",
   "execution_count": null,
   "metadata": {},
   "outputs": [],
   "source": [
    "from bs4 import BeautifulSoup\n",
    "\n",
    "# Remove HTML tags using Beautiful Soup library\n",
    "soup = BeautifulSoup(r.text, \"html5lib\")\n",
    "print(soup.get_text())"
   ]
  },
  {
   "cell_type": "code",
   "execution_count": null,
   "metadata": {
    "scrolled": true
   },
   "outputs": [],
   "source": [
    "# Find all articles\n",
    "summaries = soup.find_all(\"tr\", class_=\"athing\")\n",
    "summaries[0]"
   ]
  },
  {
   "cell_type": "code",
   "execution_count": null,
   "metadata": {},
   "outputs": [],
   "source": [
    "# Extract title\n",
    "summaries[0].find(\"a\", class_=\"storylink\").get_text().strip()"
   ]
  },
  {
   "cell_type": "code",
   "execution_count": null,
   "metadata": {},
   "outputs": [],
   "source": [
    "# Find all articles, extract titles\n",
    "articles = []\n",
    "summaries = soup.find_all(\"tr\", class_=\"athing\")\n",
    "for summary in summaries:\n",
    "    title = summary.find(\"a\", class_=\"storylink\").get_text().strip()\n",
    "    articles.append((title))\n",
    "\n",
    "print(len(articles), \"Article summaries found. Sample:\")\n",
    "print(articles[0])"
   ]
  },
  {
   "cell_type": "markdown",
   "metadata": {
    "collapsed": true
   },
   "source": [
    "## Normalization"
   ]
  },
  {
   "cell_type": "markdown",
   "metadata": {},
   "source": [
    "### Case Normalization"
   ]
  },
  {
   "cell_type": "code",
   "execution_count": null,
   "metadata": {},
   "outputs": [],
   "source": [
    "# Sample text\n",
    "text = \"The first time you see The Second Renaissance it may look boring. Look at it at least twice and definitely watch part 2. It will change your view of the matrix. Are the human people the ones who started the war ? Is AI a bad thing ?\"\n",
    "print(text)"
   ]
  },
  {
   "cell_type": "code",
   "execution_count": null,
   "metadata": {},
   "outputs": [],
   "source": [
    "# Convert to lowercase\n",
    "text = text.lower() \n",
    "print(text)"
   ]
  },
  {
   "cell_type": "markdown",
   "metadata": {},
   "source": [
    "### Punctuation Removal"
   ]
  },
  {
   "cell_type": "code",
   "execution_count": null,
   "metadata": {},
   "outputs": [],
   "source": [
    "import re\n",
    "\n",
    "# Remove punctuation characters\n",
    "text = re.sub(r\"[^a-zA-Z0-9]\", \" \", text) \n",
    "print(text)"
   ]
  },
  {
   "cell_type": "markdown",
   "metadata": {},
   "source": [
    "## Tokenization"
   ]
  },
  {
   "cell_type": "code",
   "execution_count": null,
   "metadata": {},
   "outputs": [],
   "source": [
    "# Split text into tokens (words)\n",
    "words = text.split()\n",
    "print(words)"
   ]
  },
  {
   "cell_type": "markdown",
   "metadata": {},
   "source": [
    "### NLTK: Natural Language ToolKit"
   ]
  },
  {
   "cell_type": "code",
   "execution_count": null,
   "metadata": {},
   "outputs": [],
   "source": [
    "import os\n",
    "import nltk\n",
    "nltk.data.path.append(os.path.join(os.getcwd(), \"nltk_data\"))"
   ]
  },
  {
   "cell_type": "code",
   "execution_count": null,
   "metadata": {},
   "outputs": [],
   "source": [
    "# Another sample text\n",
    "text = \"Dr. Smith graduated from the University of Washington. He later started an analytics firm called Lux, which catered to enterprise customers.\"\n",
    "print(text)"
   ]
  },
  {
   "cell_type": "code",
   "execution_count": null,
   "metadata": {},
   "outputs": [],
   "source": [
    "from nltk.tokenize import word_tokenize\n",
    "\n",
    "# Split text into words using NLTK\n",
    "words = word_tokenize(text)\n",
    "print(words)"
   ]
  },
  {
   "cell_type": "code",
   "execution_count": null,
   "metadata": {},
   "outputs": [],
   "source": [
    "from nltk.tokenize import sent_tokenize\n",
    "\n",
    "# Split text into sentences\n",
    "sentences = sent_tokenize(text)\n",
    "print(sentences)"
   ]
  },
  {
   "cell_type": "code",
   "execution_count": null,
   "metadata": {},
   "outputs": [],
   "source": [
    "# List stop words\n",
    "from nltk.corpus import stopwords\n",
    "print(stopwords.words(\"english\"))"
   ]
  },
  {
   "cell_type": "code",
   "execution_count": null,
   "metadata": {},
   "outputs": [],
   "source": [
    "# Reset text\n",
    "text = \"The first time you see The Second Renaissance it may look boring. Look at it at least twice and definitely watch part 2. It will change your view of the matrix. Are the human people the ones who started the war ? Is AI a bad thing ?\"\n",
    "\n",
    "# Normalize it\n",
    "text = re.sub(r\"[^a-zA-Z0-9]\", \" \", text.lower())\n",
    "\n",
    "# Tokenize it\n",
    "words = text.split()\n",
    "print(words)"
   ]
  },
  {
   "cell_type": "code",
   "execution_count": null,
   "metadata": {},
   "outputs": [],
   "source": [
    "# Remove stop words\n",
    "words = [w for w in words if w not in stopwords.words(\"english\")]\n",
    "print(words)"
   ]
  },
  {
   "cell_type": "markdown",
   "metadata": {},
   "source": [
    "### Sentence Parsing"
   ]
  },
  {
   "cell_type": "code",
   "execution_count": null,
   "metadata": {},
   "outputs": [],
   "source": [
    "import nltk\n",
    "\n",
    "# Define a custom grammar\n",
    "my_grammar = nltk.CFG.fromstring(\"\"\"\n",
    "S -> NP VP\n",
    "PP -> P NP\n",
    "NP -> Det N | Det N PP | 'I'\n",
    "VP -> V NP | VP PP\n",
    "Det -> 'an' | 'my'\n",
    "N -> 'elephant' | 'pajamas'\n",
    "V -> 'shot'\n",
    "P -> 'in'\n",
    "\"\"\")\n",
    "parser = nltk.ChartParser(my_grammar)\n",
    "\n",
    "# Parse a sentence\n",
    "sentence = word_tokenize(\"I shot an elephant in my pajamas\")\n",
    "for tree in parser.parse(sentence):\n",
    "    print(tree)"
   ]
  },
  {
   "cell_type": "markdown",
   "metadata": {},
   "source": [
    "## Stemming & Lemmatization\n",
    "\n",
    "### Stemming"
   ]
  },
  {
   "cell_type": "code",
   "execution_count": null,
   "metadata": {},
   "outputs": [],
   "source": [
    "from nltk.stem.porter import PorterStemmer\n",
    "\n",
    "# Reduce words to their stems\n",
    "stemmed = [PorterStemmer().stem(w) for w in words]\n",
    "print(stemmed)"
   ]
  },
  {
   "cell_type": "markdown",
   "metadata": {},
   "source": [
    "### Lemmatization"
   ]
  },
  {
   "cell_type": "code",
   "execution_count": null,
   "metadata": {},
   "outputs": [],
   "source": [
    "from nltk.stem.wordnet import WordNetLemmatizer\n",
    "\n",
    "# Reduce words to their root form\n",
    "lemmed = [WordNetLemmatizer().lemmatize(w) for w in words]\n",
    "print(lemmed)"
   ]
  },
  {
   "cell_type": "code",
   "execution_count": null,
   "metadata": {},
   "outputs": [],
   "source": [
    "# Lemmatize verbs by specifying pos\n",
    "lemmed = [WordNetLemmatizer().lemmatize(w, pos='v') for w in lemmed]\n",
    "print(lemmed)"
   ]
  },
  {
   "cell_type": "code",
   "execution_count": null,
   "metadata": {},
   "outputs": [],
   "source": []
  }
 ],
 "metadata": {
  "kernelspec": {
   "display_name": "Python 3",
   "language": "python",
   "name": "python3"
  },
  "language_info": {
   "codemirror_mode": {
    "name": "ipython",
    "version": 3
   },
   "file_extension": ".py",
   "mimetype": "text/x-python",
   "name": "python",
   "nbconvert_exporter": "python",
   "pygments_lexer": "ipython3",
   "version": "3.6.3"
  }
 },
 "nbformat": 4,
 "nbformat_minor": 2
}
