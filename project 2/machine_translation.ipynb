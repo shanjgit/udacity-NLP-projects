{
 "cells": [
  {
   "cell_type": "markdown",
   "metadata": {
    "collapsed": true
   },
   "source": [
    "# Artificial Intelligence Nanodegree\n",
    "## Machine Translation Project\n",
    "In this notebook, sections that end with **'(IMPLEMENTATION)'** in the header indicate that the following blocks of code will require additional functionality which you must provide. Please be sure to read the instructions carefully!\n",
    "\n",
    "## Introduction\n",
    "In this notebook, you will build a deep neural network that functions as part of an end-to-end machine translation pipeline. Your completed pipeline will accept English text as input and return the French translation.\n",
    "\n",
    "- **Preprocess** - You'll convert text to sequence of integers.\n",
    "- **Models** Create models which accepts a sequence of integers as input and returns a probability distribution over possible translations. After learning about the basic types of neural networks that are often used for machine translation, you will engage in your own investigations, to design your own model!\n",
    "- **Prediction** Run the model on English text."
   ]
  },
  {
   "cell_type": "code",
   "execution_count": 1,
   "metadata": {},
   "outputs": [],
   "source": [
    "%load_ext autoreload\n",
    "%aimport helper, tests\n",
    "%autoreload 1"
   ]
  },
  {
   "cell_type": "code",
   "execution_count": 2,
   "metadata": {},
   "outputs": [],
   "source": [
    "from workspace_utils import active_session\n",
    "from workspace_utils import keep_awake"
   ]
  },
  {
   "cell_type": "code",
   "execution_count": 3,
   "metadata": {},
   "outputs": [
    {
     "name": "stderr",
     "output_type": "stream",
     "text": [
      "Using TensorFlow backend.\n"
     ]
    }
   ],
   "source": [
    "import collections\n",
    "\n",
    "import helper\n",
    "import numpy as np\n",
    "import project_tests as tests\n",
    "import os\n",
    "\n",
    "from keras.preprocessing.text import Tokenizer\n",
    "from keras.preprocessing.sequence import pad_sequences\n",
    "from keras.models import Model\n",
    "from keras.layers import GRU, Input, Dense, TimeDistributed, Activation, RepeatVector, Bidirectional\n",
    "from keras.layers.embeddings import Embedding\n",
    "from keras.optimizers import Adam\n",
    "from keras.losses import sparse_categorical_crossentropy"
   ]
  },
  {
   "cell_type": "markdown",
   "metadata": {},
   "source": [
    "### Verify access to the GPU\n",
    "The following test applies only if you expect to be using a GPU, e.g., while running in a Udacity Workspace or using an AWS instance with GPU support. Run the next cell, and verify that the device_type is \"GPU\".\n",
    "- If the device is not GPU & you are running from a Udacity Workspace, then save your workspace with the icon at the top, then click \"enable\" at the bottom of the workspace.\n",
    "- If the device is not GPU & you are running from an AWS instance, then refer to the cloud computing instructions in the classroom to verify your setup steps."
   ]
  },
  {
   "cell_type": "code",
   "execution_count": 4,
   "metadata": {},
   "outputs": [
    {
     "name": "stdout",
     "output_type": "stream",
     "text": [
      "[name: \"/cpu:0\"\n",
      "device_type: \"CPU\"\n",
      "memory_limit: 268435456\n",
      "locality {\n",
      "}\n",
      "incarnation: 4868660724864013859\n",
      ", name: \"/gpu:0\"\n",
      "device_type: \"GPU\"\n",
      "memory_limit: 357302272\n",
      "locality {\n",
      "  bus_id: 1\n",
      "}\n",
      "incarnation: 10343505648869748630\n",
      "physical_device_desc: \"device: 0, name: Tesla K80, pci bus id: 0000:00:04.0\"\n",
      "]\n"
     ]
    }
   ],
   "source": [
    "from tensorflow.python.client import device_lib\n",
    "print(device_lib.list_local_devices())"
   ]
  },
  {
   "cell_type": "markdown",
   "metadata": {},
   "source": [
    "## Dataset\n",
    "We begin by investigating the dataset that will be used to train and evaluate your pipeline.  The most common datasets used for machine translation are from [WMT](http://www.statmt.org/).  However, that will take a long time to train a neural network on.  We'll be using a dataset we created for this project that contains a small vocabulary.  You'll be able to train your model in a reasonable time with this dataset.\n",
    "### Load Data\n",
    "The data is located in `data/small_vocab_en` and `data/small_vocab_fr`. The `small_vocab_en` file contains English sentences with their French translations in the `small_vocab_fr` file. Load the English and French data from these files from running the cell below."
   ]
  },
  {
   "cell_type": "code",
   "execution_count": 5,
   "metadata": {},
   "outputs": [
    {
     "name": "stdout",
     "output_type": "stream",
     "text": [
      "Dataset Loaded\n"
     ]
    }
   ],
   "source": [
    "# Load English data\n",
    "english_sentences = helper.load_data('data/small_vocab_en')\n",
    "# Load French data\n",
    "french_sentences = helper.load_data('data/small_vocab_fr')\n",
    "\n",
    "print('Dataset Loaded')"
   ]
  },
  {
   "cell_type": "markdown",
   "metadata": {},
   "source": [
    "### Files\n",
    "Each line in `small_vocab_en` contains an English sentence with the respective translation in each line of `small_vocab_fr`.  View the first two lines from each file."
   ]
  },
  {
   "cell_type": "code",
   "execution_count": 6,
   "metadata": {},
   "outputs": [
    {
     "name": "stdout",
     "output_type": "stream",
     "text": [
      "small_vocab_en Line 1:  new jersey is sometimes quiet during autumn , and it is snowy in april .\n",
      "small_vocab_fr Line 1:  new jersey est parfois calme pendant l' automne , et il est neigeux en avril .\n",
      "small_vocab_en Line 2:  the united states is usually chilly during july , and it is usually freezing in november .\n",
      "small_vocab_fr Line 2:  les états-unis est généralement froid en juillet , et il gèle habituellement en novembre .\n"
     ]
    }
   ],
   "source": [
    "for sample_i in range(2):\n",
    "    print('small_vocab_en Line {}:  {}'.format(sample_i + 1, english_sentences[sample_i]))\n",
    "    print('small_vocab_fr Line {}:  {}'.format(sample_i + 1, french_sentences[sample_i]))"
   ]
  },
  {
   "cell_type": "markdown",
   "metadata": {},
   "source": [
    "From looking at the sentences, you can see they have been preprocessed already.  The puncuations have been delimited using spaces. All the text have been converted to lowercase.  This should save you some time, but the text requires more preprocessing.\n",
    "### Vocabulary\n",
    "The complexity of the problem is determined by the complexity of the vocabulary.  A more complex vocabulary is a more complex problem.  Let's look at the complexity of the dataset we'll be working with."
   ]
  },
  {
   "cell_type": "code",
   "execution_count": 7,
   "metadata": {},
   "outputs": [
    {
     "name": "stdout",
     "output_type": "stream",
     "text": [
      "1823250 English words.\n",
      "227 unique English words.\n",
      "10 Most common words in the English dataset:\n",
      "\"is\" \",\" \".\" \"in\" \"it\" \"during\" \"the\" \"but\" \"and\" \"sometimes\"\n",
      "\n",
      "1961295 French words.\n",
      "355 unique French words.\n",
      "10 Most common words in the French dataset:\n",
      "\"est\" \".\" \",\" \"en\" \"il\" \"les\" \"mais\" \"et\" \"la\" \"parfois\"\n"
     ]
    }
   ],
   "source": [
    "english_words_counter = collections.Counter([word for sentence in english_sentences for word in sentence.split()])\n",
    "french_words_counter = collections.Counter([word for sentence in french_sentences for word in sentence.split()])\n",
    "\n",
    "print('{} English words.'.format(len([word for sentence in english_sentences for word in sentence.split()])))\n",
    "print('{} unique English words.'.format(len(english_words_counter)))\n",
    "print('10 Most common words in the English dataset:')\n",
    "print('\"' + '\" \"'.join(list(zip(*english_words_counter.most_common(10)))[0]) + '\"')\n",
    "print()\n",
    "print('{} French words.'.format(len([word for sentence in french_sentences for word in sentence.split()])))\n",
    "print('{} unique French words.'.format(len(french_words_counter)))\n",
    "print('10 Most common words in the French dataset:')\n",
    "print('\"' + '\" \"'.join(list(zip(*french_words_counter.most_common(10)))[0]) + '\"')"
   ]
  },
  {
   "cell_type": "code",
   "execution_count": 8,
   "metadata": {},
   "outputs": [
    {
     "data": {
      "text/plain": [
       "('is', ',', '.', 'in', 'it', 'during', 'the', 'but', 'and', 'sometimes')"
      ]
     },
     "execution_count": 8,
     "metadata": {},
     "output_type": "execute_result"
    }
   ],
   "source": [
    "list(zip(*english_words_counter.most_common(10)))[0]"
   ]
  },
  {
   "cell_type": "code",
   "execution_count": 28,
   "metadata": {},
   "outputs": [
    {
     "ename": "SyntaxError",
     "evalue": "invalid syntax (<ipython-input-28-5a6cbbb96cca>, line 1)",
     "output_type": "error",
     "traceback": [
      "\u001b[0;36m  File \u001b[0;32m\"<ipython-input-28-5a6cbbb96cca>\"\u001b[0;36m, line \u001b[0;32m1\u001b[0m\n\u001b[0;31m    *english_words_counter.most_common(10))\u001b[0m\n\u001b[0m                                          ^\u001b[0m\n\u001b[0;31mSyntaxError\u001b[0m\u001b[0;31m:\u001b[0m invalid syntax\n"
     ]
    }
   ],
   "source": [
    "*english_words_counter.most_common(10))"
   ]
  },
  {
   "cell_type": "markdown",
   "metadata": {},
   "source": [
    "For comparison, _Alice's Adventures in Wonderland_ contains 2,766 unique words of a total of 15,500 words.\n",
    "## Preprocess\n",
    "For this project, you won't use text data as input to your model. Instead, you'll convert the text into sequences of integers using the following preprocess methods:\n",
    "1. Tokenize the words into ids\n",
    "2. Add padding to make all the sequences the same length.\n",
    "\n",
    "Time to start preprocessing the data...\n",
    "### Tokenize (IMPLEMENTATION)\n",
    "For a neural network to predict on text data, it first has to be turned into data it can understand. Text data like \"dog\" is a sequence of ASCII character encodings.  Since a neural network is a series of multiplication and addition operations, the input data needs to be number(s).\n",
    "\n",
    "We can turn each character into a number or each word into a number.  These are called character and word ids, respectively.  Character ids are used for character level models that generate text predictions for each character.  A word level model uses word ids that generate text predictions for each word.  Word level models tend to learn better, since they are lower in complexity, so we'll use those.\n",
    "\n",
    "Turn each sentence into a sequence of words ids using Keras's [`Tokenizer`](https://keras.io/preprocessing/text/#tokenizer) function. Use this function to tokenize `english_sentences` and `french_sentences` in the cell below.\n",
    "\n",
    "Running the cell will run `tokenize` on sample data and show output for debugging."
   ]
  },
  {
   "cell_type": "code",
   "execution_count": 9,
   "metadata": {},
   "outputs": [
    {
     "name": "stdout",
     "output_type": "stream",
     "text": [
      "{'the': 1, 'quick': 2, 'a': 3, 'brown': 4, 'fox': 5, 'jumps': 6, 'over': 7, 'lazy': 8, 'dog': 9, 'by': 10, 'jove': 11, 'my': 12, 'study': 13, 'of': 14, 'lexicography': 15, 'won': 16, 'prize': 17, 'this': 18, 'is': 19, 'short': 20, 'sentence': 21}\n",
      "\n",
      "Sequence 1 in x\n",
      "  Input:  The quick brown fox jumps over the lazy dog .\n",
      "  Output: [1, 2, 4, 5, 6, 7, 1, 8, 9]\n",
      "Sequence 2 in x\n",
      "  Input:  By Jove , my quick study of lexicography won a prize .\n",
      "  Output: [10, 11, 12, 2, 13, 14, 15, 16, 3, 17]\n",
      "Sequence 3 in x\n",
      "  Input:  This is a short sentence .\n",
      "  Output: [18, 19, 3, 20, 21]\n"
     ]
    }
   ],
   "source": [
    "def tokenize(x):\n",
    "    \"\"\"\n",
    "    Tokenize x\n",
    "    :param x: List of sentences/strings to be tokenized\n",
    "    :return: Tuple of (tokenized x data, tokenizer used to tokenize x)\n",
    "    \"\"\"\n",
    "    # TODO: Implement\n",
    "    tk = Tokenizer()\n",
    "    tk.fit_on_texts(x)\n",
    "    return tk.texts_to_sequences(x), tk\n",
    "tests.test_tokenize(tokenize)\n",
    "\n",
    "# Tokenize Example output\n",
    "text_sentences = [\n",
    "    'The quick brown fox jumps over the lazy dog .',\n",
    "    'By Jove , my quick study of lexicography won a prize .',\n",
    "    'This is a short sentence .']\n",
    "text_tokenized, text_tokenizer = tokenize(text_sentences)\n",
    "print(text_tokenizer.word_index)\n",
    "print()\n",
    "for sample_i, (sent, token_sent) in enumerate(zip(text_sentences, text_tokenized)):\n",
    "    print('Sequence {} in x'.format(sample_i + 1))\n",
    "    print('  Input:  {}'.format(sent))\n",
    "    print('  Output: {}'.format(token_sent))"
   ]
  },
  {
   "cell_type": "code",
   "execution_count": 10,
   "metadata": {},
   "outputs": [],
   "source": [
    "text_tokenized, text_tokenizer = tokenize(english_sentences)"
   ]
  },
  {
   "cell_type": "code",
   "execution_count": 11,
   "metadata": {},
   "outputs": [
    {
     "ename": "NameError",
     "evalue": "name 'pad' is not defined",
     "output_type": "error",
     "traceback": [
      "\u001b[0;31m---------------------------------------------------------------------------\u001b[0m",
      "\u001b[0;31mNameError\u001b[0m                                 Traceback (most recent call last)",
      "\u001b[0;32m<ipython-input-11-3766d78881c9>\u001b[0m in \u001b[0;36m<module>\u001b[0;34m()\u001b[0m\n\u001b[0;32m----> 1\u001b[0;31m \u001b[0mtext\u001b[0m \u001b[0;34m=\u001b[0m \u001b[0mpad\u001b[0m\u001b[0;34m(\u001b[0m\u001b[0mtext_tokenized\u001b[0m\u001b[0;34m)\u001b[0m\u001b[0;34m\u001b[0m\u001b[0m\n\u001b[0m",
      "\u001b[0;31mNameError\u001b[0m: name 'pad' is not defined"
     ]
    }
   ],
   "source": [
    "text = pad(text_tokenized)"
   ]
  },
  {
   "cell_type": "code",
   "execution_count": null,
   "metadata": {},
   "outputs": [],
   "source": [
    "text.shape"
   ]
  },
  {
   "cell_type": "markdown",
   "metadata": {},
   "source": [
    "### Padding (IMPLEMENTATION)\n",
    "When batching the sequence of word ids together, each sequence needs to be the same length.  Since sentences are dynamic in length, we can add padding to the end of the sequences to make them the same length.\n",
    "\n",
    "Make sure all the English sequences have the same length and all the French sequences have the same length by adding padding to the **end** of each sequence using Keras's [`pad_sequences`](https://keras.io/preprocessing/sequence/#pad_sequences) function."
   ]
  },
  {
   "cell_type": "code",
   "execution_count": 15,
   "metadata": {},
   "outputs": [
    {
     "name": "stdout",
     "output_type": "stream",
     "text": [
      "Sequence 1 in x\n",
      "  Input:  [17 23  1  8 67  4 39  7  3  1 55  2 44]\n",
      "  Output: [17 23  1  8 67  4 39  7  3  1 55  2 44  0  0]\n",
      "Sequence 2 in x\n",
      "  Input:  [ 5 20 21  1  9 62  4 43  7  3  1  9 51  2 45]\n",
      "  Output: [ 5 20 21  1  9 62  4 43  7  3  1  9 51  2 45]\n",
      "Sequence 3 in x\n",
      "  Input:  [22  1  9 67  4 38  7  3  1  9 68  2 34]\n",
      "  Output: [22  1  9 67  4 38  7  3  1  9 68  2 34  0  0]\n"
     ]
    }
   ],
   "source": [
    "def pad(x, length=None):\n",
    "    \"\"\"\n",
    "    :param x: List of sequences.\n",
    "    :param length: Length to pad the sequence to.  If None, use length of longest sequence in x.\n",
    "    :return: Padded numpy array of sequences\n",
    "    \"\"\"\n",
    "    # TODO: Implement\n",
    "    if length is None:\n",
    "        length = max([len(s) for s in x])\n",
    "    return pad_sequences(x, maxlen=length, padding='post')\n",
    "tests.test_pad(pad)\n",
    "\n",
    "# Pad Tokenized output\n",
    "test_pad = pad(text_tokenized)\n",
    "for sample_i, (token_sent, pad_sent) in enumerate(zip(text_tokenized[:3], test_pad[:3])):\n",
    "    print('Sequence {} in x'.format(sample_i + 1))\n",
    "    print('  Input:  {}'.format(np.array(token_sent)))\n",
    "    print('  Output: {}'.format(pad_sent))"
   ]
  },
  {
   "cell_type": "markdown",
   "metadata": {},
   "source": [
    "### Preprocess Pipeline\n",
    "Your focus for this project is to build neural network architecture, so we won't ask you to create a preprocess pipeline.  Instead, we've provided you with the implementation of the `preprocess` function."
   ]
  },
  {
   "cell_type": "code",
   "execution_count": 16,
   "metadata": {},
   "outputs": [
    {
     "name": "stdout",
     "output_type": "stream",
     "text": [
      "Data Preprocessed\n",
      "Max English sentence length: 15\n",
      "Max French sentence length: 21\n",
      "English vocabulary size: 199\n",
      "French vocabulary size: 344\n"
     ]
    }
   ],
   "source": [
    "def preprocess(x, y):\n",
    "    \"\"\"\n",
    "    Preprocess x and y\n",
    "    :param x: Feature List of sentences\n",
    "    :param y: Label List of sentences\n",
    "    :return: Tuple of (Preprocessed x, Preprocessed y, x tokenizer, y tokenizer)\n",
    "    \"\"\"\n",
    "    preprocess_x, x_tk = tokenize(x)\n",
    "    preprocess_y, y_tk = tokenize(y)\n",
    "\n",
    "    preprocess_x = pad(preprocess_x)\n",
    "    preprocess_y = pad(preprocess_y)\n",
    "\n",
    "    # Keras's sparse_categorical_crossentropy function requires the labels to be in 3 dimensions\n",
    "    preprocess_y = preprocess_y.reshape(*preprocess_y.shape, 1)\n",
    "\n",
    "    return preprocess_x, preprocess_y, x_tk, y_tk\n",
    "\n",
    "preproc_english_sentences, preproc_french_sentences, english_tokenizer, french_tokenizer =\\\n",
    "    preprocess(english_sentences, french_sentences)\n",
    "    \n",
    "max_english_sequence_length = preproc_english_sentences.shape[1]\n",
    "max_french_sequence_length = preproc_french_sentences.shape[1]\n",
    "english_vocab_size = len(english_tokenizer.word_index)\n",
    "french_vocab_size = len(french_tokenizer.word_index)\n",
    "\n",
    "print('Data Preprocessed')\n",
    "print(\"Max English sentence length:\", max_english_sequence_length)\n",
    "print(\"Max French sentence length:\", max_french_sequence_length)\n",
    "print(\"English vocabulary size:\", english_vocab_size)\n",
    "print(\"French vocabulary size:\", french_vocab_size)"
   ]
  },
  {
   "cell_type": "code",
   "execution_count": null,
   "metadata": {},
   "outputs": [],
   "source": [
    "english_tokenizer"
   ]
  },
  {
   "cell_type": "markdown",
   "metadata": {},
   "source": [
    "## Models\n",
    "In this section, you will experiment with various neural network architectures.\n",
    "You will begin by training four relatively simple architectures.\n",
    "- Model 1 is a simple RNN\n",
    "- Model 2 is a RNN with Embedding\n",
    "- Model 3 is a Bidirectional RNN\n",
    "- Model 4 is an optional Encoder-Decoder RNN\n",
    "\n",
    "After experimenting with the four simple architectures, you will construct a deeper architecture that is designed to outperform all four models.\n",
    "### Ids Back to Text\n",
    "The neural network will be translating the input to words ids, which isn't the final form we want.  We want the French translation.  The function `logits_to_text` will bridge the gab between the logits from the neural network to the French translation.  You'll be using this function to better understand the output of the neural network."
   ]
  },
  {
   "cell_type": "code",
   "execution_count": 17,
   "metadata": {},
   "outputs": [
    {
     "name": "stdout",
     "output_type": "stream",
     "text": [
      "`logits_to_text` function loaded.\n"
     ]
    }
   ],
   "source": [
    "def logits_to_text(logits, tokenizer):\n",
    "    \"\"\"\n",
    "    Turn logits from a neural network into text using the tokenizer\n",
    "    :param logits: Logits from a neural network\n",
    "    :param tokenizer: Keras Tokenizer fit on the labels\n",
    "    :return: String that represents the text of the logits\n",
    "    \"\"\"\n",
    "    index_to_words = {id: word for word, id in tokenizer.word_index.items()}\n",
    "    index_to_words[0] = '<PAD>'\n",
    "\n",
    "    return ' '.join([index_to_words[prediction] for prediction in np.argmax(logits, 1)])\n",
    "\n",
    "print('`logits_to_text` function loaded.')"
   ]
  },
  {
   "cell_type": "code",
   "execution_count": 13,
   "metadata": {},
   "outputs": [
    {
     "data": {
      "text/plain": [
       "199"
      ]
     },
     "execution_count": 13,
     "metadata": {},
     "output_type": "execute_result"
    }
   ],
   "source": [
    "len(english_tokenizer.word_index)"
   ]
  },
  {
   "cell_type": "code",
   "execution_count": 14,
   "metadata": {},
   "outputs": [
    {
     "data": {
      "text/plain": [
       "199"
      ]
     },
     "execution_count": 14,
     "metadata": {},
     "output_type": "execute_result"
    }
   ],
   "source": [
    "english_vocab_size"
   ]
  },
  {
   "cell_type": "markdown",
   "metadata": {},
   "source": [
    "### Model 1: RNN (IMPLEMENTATION)\n",
    "![RNN](images/rnn.png)\n",
    "A basic RNN model is a good baseline for sequence data.  In this model, you'll build a RNN that translates English to French."
   ]
  },
  {
   "cell_type": "code",
   "execution_count": 12,
   "metadata": {
    "scrolled": true
   },
   "outputs": [
    {
     "name": "stdout",
     "output_type": "stream",
     "text": [
      "Train on 110288 samples, validate on 27573 samples\n",
      "Epoch 1/10\n",
      "110288/110288 [==============================] - 11s 101us/step - loss: 3.3217 - acc: 0.4240 - val_loss: nan - val_acc: 0.4624\n",
      "Epoch 2/10\n",
      "110288/110288 [==============================] - 9s 83us/step - loss: 2.3081 - acc: 0.4810 - val_loss: nan - val_acc: 0.5278\n",
      "Epoch 3/10\n",
      "110288/110288 [==============================] - 9s 83us/step - loss: 1.9680 - acc: 0.5535 - val_loss: nan - val_acc: 0.5712\n",
      "Epoch 4/10\n",
      "110288/110288 [==============================] - 9s 83us/step - loss: 1.7196 - acc: 0.5793 - val_loss: nan - val_acc: 0.5891\n",
      "Epoch 5/10\n",
      "110288/110288 [==============================] - 9s 82us/step - loss: 1.5892 - acc: 0.5972 - val_loss: nan - val_acc: 0.5978\n",
      "Epoch 6/10\n",
      "110288/110288 [==============================] - 9s 83us/step - loss: 1.5075 - acc: 0.6037 - val_loss: nan - val_acc: 0.6078\n",
      "Epoch 7/10\n",
      "110288/110288 [==============================] - 9s 82us/step - loss: 1.4454 - acc: 0.6114 - val_loss: nan - val_acc: 0.6139\n",
      "Epoch 8/10\n",
      "110288/110288 [==============================] - 9s 83us/step - loss: 1.3937 - acc: 0.6173 - val_loss: nan - val_acc: 0.6189\n",
      "Epoch 9/10\n",
      "110288/110288 [==============================] - 9s 83us/step - loss: 1.3477 - acc: 0.6260 - val_loss: nan - val_acc: 0.6307\n",
      "Epoch 10/10\n",
      "110288/110288 [==============================] - 9s 82us/step - loss: 1.3045 - acc: 0.6339 - val_loss: nan - val_acc: 0.6409\n",
      "new jersey est parfois chaud en l' mais il est est en en <PAD> <PAD> <PAD> <PAD> <PAD> <PAD> <PAD> <PAD>\n"
     ]
    }
   ],
   "source": [
    "from keras.layers import GRU, Input, Dense, TimeDistributed\n",
    "from keras.models import Model, Sequential\n",
    "from keras.layers import Activation\n",
    "from keras.optimizers import Adam\n",
    "from keras.losses import sparse_categorical_crossentropy\n",
    "\n",
    "def simple_model(input_shape, output_sequence_length, english_vocab_size, french_vocab_size):\n",
    "    \"\"\"\n",
    "    Build and train a basic RNN on x and y\n",
    "    :param input_shape: Tuple of input shape\n",
    "    :param output_sequence_length: Length of output sequence\n",
    "    :param english_vocab_size: Number of unique English words in the dataset\n",
    "    :param french_vocab_size: Number of unique French words in the dataset\n",
    "    :return: Keras model built, but not trained\n",
    "    \"\"\"\n",
    "    # TODO: Build the layers\n",
    "    lr = 1e-3\n",
    "    input_seq = Input(input_shape[1:])\n",
    "    rnn = GRU(256, return_sequences=True)(input_seq)\n",
    "    logits = TimeDistributed(Dense(french_vocab_size))(rnn)\n",
    "    model = Model(input_seq, Activation('softmax')(logits))\n",
    "    \n",
    "    model.compile(loss=sparse_categorical_crossentropy,\n",
    "                  optimizer=Adam(lr),\n",
    "                  metrics=['accuracy'])\n",
    "    return model\n",
    "tests.test_simple_model(simple_model)\n",
    "\n",
    "# Reshaping the input to work with a basic RNN\n",
    "tmp_x = pad(preproc_english_sentences, max_french_sequence_length)\n",
    "tmp_x = tmp_x.reshape((-1, preproc_french_sentences.shape[-2], 1))\n",
    "\n",
    "# Train the neural network\n",
    "simple_rnn_model = simple_model(\n",
    "    tmp_x.shape,\n",
    "    max_french_sequence_length,\n",
    "    english_vocab_size,\n",
    "    french_vocab_size)\n",
    "\n",
    "simple_rnn_model.fit(tmp_x, preproc_french_sentences, batch_size=2948, epochs=10, validation_split=0.2)\n",
    "simple_rnn_model.save(os.path.join(\"model\", \"simple_rnn.h5\"))\n",
    "\n",
    "# Print prediction(s)\n",
    "print(logits_to_text(simple_rnn_model.predict(tmp_x[:1])[0], french_tokenizer))"
   ]
  },
  {
   "cell_type": "code",
   "execution_count": 13,
   "metadata": {},
   "outputs": [
    {
     "name": "stdout",
     "output_type": "stream",
     "text": [
      "(21,)\n",
      "(21, 1)\n"
     ]
    }
   ],
   "source": [
    "tmp_x = pad(preproc_english_sentences, max_french_sequence_length)\n",
    "print(tmp_x.shape[1:])\n",
    "tmp_x = tmp_x.reshape((-1, preproc_french_sentences.shape[-2], 1))\n",
    "print(tmp_x.shape[1:])"
   ]
  },
  {
   "cell_type": "code",
   "execution_count": 14,
   "metadata": {},
   "outputs": [
    {
     "data": {
      "text/plain": [
       "(137861, 21, 1)"
      ]
     },
     "execution_count": 14,
     "metadata": {},
     "output_type": "execute_result"
    }
   ],
   "source": [
    "preproc_french_sentences.shape "
   ]
  },
  {
   "cell_type": "markdown",
   "metadata": {},
   "source": [
    "### Model 2: Embedding (IMPLEMENTATION)\n",
    "![RNN](images/embedding.png)\n",
    "You've turned the words into ids, but there's a better representation of a word.  This is called word embeddings.  An embedding is a vector representation of the word that is close to similar words in n-dimensional space, where the n represents the size of the embedding vectors.\n",
    "\n",
    "In this model, you'll create a RNN model using embedding."
   ]
  },
  {
   "cell_type": "code",
   "execution_count": 15,
   "metadata": {},
   "outputs": [
    {
     "name": "stdout",
     "output_type": "stream",
     "text": [
      "Train on 110288 samples, validate on 27573 samples\n",
      "Epoch 1/20\n",
      "110288/110288 [==============================] - 10s 91us/step - loss: 5.2642 - acc: 0.3943 - val_loss: nan - val_acc: 0.4093\n",
      "Epoch 2/20\n",
      "110288/110288 [==============================] - 10s 87us/step - loss: 3.1894 - acc: 0.4082 - val_loss: nan - val_acc: 0.4093\n",
      "Epoch 3/20\n",
      "110288/110288 [==============================] - 10s 87us/step - loss: 2.9547 - acc: 0.4082 - val_loss: nan - val_acc: 0.4093\n",
      "Epoch 4/20\n",
      "110288/110288 [==============================] - 10s 87us/step - loss: 2.8028 - acc: 0.4107 - val_loss: nan - val_acc: 0.4162\n",
      "Epoch 5/20\n",
      "110288/110288 [==============================] - 10s 87us/step - loss: 2.6393 - acc: 0.4558 - val_loss: nan - val_acc: 0.4793\n",
      "Epoch 6/20\n",
      "110288/110288 [==============================] - 10s 87us/step - loss: 2.4609 - acc: 0.5013 - val_loss: nan - val_acc: 0.5177\n",
      "Epoch 7/20\n",
      "110288/110288 [==============================] - 10s 87us/step - loss: 2.2569 - acc: 0.5294 - val_loss: nan - val_acc: 0.5389\n",
      "Epoch 8/20\n",
      "110288/110288 [==============================] - 10s 87us/step - loss: 2.0301 - acc: 0.5464 - val_loss: nan - val_acc: 0.5602\n",
      "Epoch 9/20\n",
      "110288/110288 [==============================] - 10s 87us/step - loss: 1.8302 - acc: 0.5699 - val_loss: nan - val_acc: 0.5855\n",
      "Epoch 10/20\n",
      "110288/110288 [==============================] - 10s 87us/step - loss: 1.6858 - acc: 0.6016 - val_loss: nan - val_acc: 0.6207\n",
      "Epoch 11/20\n",
      "110288/110288 [==============================] - 10s 87us/step - loss: 1.5761 - acc: 0.6352 - val_loss: nan - val_acc: 0.6506\n",
      "Epoch 12/20\n",
      "110288/110288 [==============================] - 10s 87us/step - loss: 1.4821 - acc: 0.6586 - val_loss: nan - val_acc: 0.6673\n",
      "Epoch 13/20\n",
      "110288/110288 [==============================] - 10s 87us/step - loss: 1.3963 - acc: 0.6740 - val_loss: nan - val_acc: 0.6821\n",
      "Epoch 14/20\n",
      "110288/110288 [==============================] - 10s 87us/step - loss: 1.3169 - acc: 0.6904 - val_loss: nan - val_acc: 0.7021\n",
      "Epoch 15/20\n",
      "110288/110288 [==============================] - 10s 87us/step - loss: 1.2441 - acc: 0.7075 - val_loss: nan - val_acc: 0.7161\n",
      "Epoch 16/20\n",
      "110288/110288 [==============================] - 10s 87us/step - loss: 1.1788 - acc: 0.7235 - val_loss: nan - val_acc: 0.7330\n",
      "Epoch 17/20\n",
      "110288/110288 [==============================] - 10s 87us/step - loss: 1.1204 - acc: 0.7394 - val_loss: nan - val_acc: 0.7470\n",
      "Epoch 18/20\n",
      "110288/110288 [==============================] - 10s 87us/step - loss: 1.0679 - acc: 0.7503 - val_loss: nan - val_acc: 0.7554\n",
      "Epoch 19/20\n",
      "110288/110288 [==============================] - 10s 87us/step - loss: 1.0203 - acc: 0.7577 - val_loss: nan - val_acc: 0.7626\n",
      "Epoch 20/20\n",
      "110288/110288 [==============================] - 10s 87us/step - loss: 0.9762 - acc: 0.7656 - val_loss: nan - val_acc: 0.7706\n",
      "new jersey est parfois calme en l' et il il est en en <PAD> <PAD> <PAD> <PAD> <PAD> <PAD> <PAD> <PAD>\n"
     ]
    }
   ],
   "source": [
    "from keras.layers import GRU, Input, Dense, TimeDistributed\n",
    "from keras.models import Model, Sequential\n",
    "from keras.layers import Activation\n",
    "from keras.optimizers import Adam\n",
    "from keras.losses import sparse_categorical_crossentropy\n",
    "from keras.layers.embeddings import Embedding\n",
    "\n",
    "def embed_model(input_shape, output_sequence_length, english_vocab_size, french_vocab_size):\n",
    "    \"\"\"\n",
    "    Build and train a RNN model using word embedding on x and y\n",
    "    :param input_shape: Tuple of input shape\n",
    "    :param output_sequence_length: Length of output sequence\n",
    "    :param english_vocab_size: Number of unique English words in the dataset\n",
    "    :param french_vocab_size: Number of unique French words in the dataset\n",
    "    :return: Keras model built, but not trained\n",
    "    \"\"\"\n",
    "    # TODO: Implement\n",
    "    lr = 1e-4\n",
    "    input_layer = Input(shape=input_shape[1:])\n",
    "    embed_layer = Embedding(input_dim=english_vocab_size, output_dim=300)(input_layer)\n",
    "    rnn_layer = GRU(units=128, return_sequences=True)(embed_layer)\n",
    "    outputs = TimeDistributed(Dense(french_vocab_size, activation='softmax'))(rnn_layer)\n",
    "    \n",
    "    model = Model(inputs=input_layer, outputs=outputs)\n",
    "    \n",
    "    \n",
    "    model.compile(loss=sparse_categorical_crossentropy,\n",
    "                  optimizer=Adam(lr),\n",
    "                  metrics=['accuracy'])\n",
    "    \n",
    "    return model\n",
    "\n",
    "tests.test_embed_model(embed_model)\n",
    "\n",
    "\n",
    "# TODO: Reshape the input\n",
    "tmp_x = pad(preproc_english_sentences, max_french_sequence_length)\n",
    "tmp_x = tmp_x.reshape((-1, preproc_french_sentences.shape[-2]))\n",
    "\n",
    "# TODO: Train the neural network\n",
    "embed_rnn_model = embed_model(\n",
    "    tmp_x.shape,\n",
    "    max_french_sequence_length,\n",
    "    english_vocab_size,\n",
    "    french_vocab_size)\n",
    "\n",
    "embed_rnn_model.fit(tmp_x, preproc_french_sentences, batch_size=1024, epochs=20, validation_split=0.2)\n",
    "embed_rnn_model.save(os.path.join(\"model\", \"embed_rnn.h5\"))\n",
    "\n",
    "# Print prediction(s)\n",
    "print(logits_to_text(embed_rnn_model.predict(tmp_x[:1])[0], french_tokenizer))"
   ]
  },
  {
   "cell_type": "code",
   "execution_count": 20,
   "metadata": {},
   "outputs": [
    {
     "data": {
      "text/plain": [
       "(137861, 21, 1)"
      ]
     },
     "execution_count": 20,
     "metadata": {},
     "output_type": "execute_result"
    }
   ],
   "source": [
    "preproc_french_sentences.shape"
   ]
  },
  {
   "cell_type": "markdown",
   "metadata": {},
   "source": [
    "### Model 3: Bidirectional RNNs (IMPLEMENTATION)\n",
    "![RNN](images/bidirectional.png)\n",
    "One restriction of a RNN is that it can't see the future input, only the past.  This is where bidirectional recurrent neural networks come in.  They are able to see the future data."
   ]
  },
  {
   "cell_type": "code",
   "execution_count": 14,
   "metadata": {},
   "outputs": [
    {
     "name": "stdout",
     "output_type": "stream",
     "text": [
      "Train on 110288 samples, validate on 27573 samples\n",
      "Epoch 1/20\n",
      "110288/110288 [==============================] - 14s 123us/step - loss: 5.0995 - acc: 0.3790 - val_loss: nan - val_acc: 0.4633\n",
      "Epoch 2/20\n",
      "110288/110288 [==============================] - 11s 103us/step - loss: 2.7263 - acc: 0.4817 - val_loss: nan - val_acc: 0.4941\n",
      "Epoch 3/20\n",
      "110288/110288 [==============================] - 11s 103us/step - loss: 2.3679 - acc: 0.4986 - val_loss: nan - val_acc: 0.5043\n",
      "Epoch 4/20\n",
      "110288/110288 [==============================] - 11s 103us/step - loss: 2.1920 - acc: 0.5221 - val_loss: nan - val_acc: 0.5383\n",
      "Epoch 5/20\n",
      "110288/110288 [==============================] - 11s 103us/step - loss: 2.0494 - acc: 0.5448 - val_loss: nan - val_acc: 0.5496\n",
      "Epoch 6/20\n",
      "110288/110288 [==============================] - 11s 103us/step - loss: 1.9336 - acc: 0.5574 - val_loss: nan - val_acc: 0.5658\n",
      "Epoch 7/20\n",
      "110288/110288 [==============================] - 11s 103us/step - loss: 1.8353 - acc: 0.5714 - val_loss: nan - val_acc: 0.5793\n",
      "Epoch 8/20\n",
      "110288/110288 [==============================] - 11s 103us/step - loss: 1.7519 - acc: 0.5795 - val_loss: nan - val_acc: 0.5820\n",
      "Epoch 9/20\n",
      "110288/110288 [==============================] - 11s 103us/step - loss: 1.6848 - acc: 0.5832 - val_loss: nan - val_acc: 0.5839\n",
      "Epoch 10/20\n",
      "110288/110288 [==============================] - 11s 102us/step - loss: 1.6305 - acc: 0.5911 - val_loss: nan - val_acc: 0.5989\n",
      "Epoch 11/20\n",
      "110288/110288 [==============================] - 11s 102us/step - loss: 1.5850 - acc: 0.6008 - val_loss: nan - val_acc: 0.6039\n",
      "Epoch 12/20\n",
      "110288/110288 [==============================] - 11s 103us/step - loss: 1.5459 - acc: 0.6062 - val_loss: nan - val_acc: 0.6099\n",
      "Epoch 13/20\n",
      "110288/110288 [==============================] - 11s 103us/step - loss: 1.5117 - acc: 0.6118 - val_loss: nan - val_acc: 0.6140\n",
      "Epoch 14/20\n",
      "110288/110288 [==============================] - 11s 104us/step - loss: 1.4812 - acc: 0.6145 - val_loss: nan - val_acc: 0.6166\n",
      "Epoch 15/20\n",
      "110288/110288 [==============================] - 11s 103us/step - loss: 1.4537 - acc: 0.6168 - val_loss: nan - val_acc: 0.6183\n",
      "Epoch 16/20\n",
      "110288/110288 [==============================] - 11s 104us/step - loss: 1.4285 - acc: 0.6191 - val_loss: nan - val_acc: 0.6209\n",
      "Epoch 17/20\n",
      "110288/110288 [==============================] - 11s 103us/step - loss: 1.4058 - acc: 0.6217 - val_loss: nan - val_acc: 0.6242\n",
      "Epoch 18/20\n",
      "110288/110288 [==============================] - 11s 103us/step - loss: 1.3850 - acc: 0.6247 - val_loss: nan - val_acc: 0.6274\n",
      "Epoch 19/20\n",
      "110288/110288 [==============================] - 11s 103us/step - loss: 1.3660 - acc: 0.6285 - val_loss: nan - val_acc: 0.6315\n",
      "Epoch 20/20\n",
      "110288/110288 [==============================] - 11s 103us/step - loss: 1.3485 - acc: 0.6315 - val_loss: nan - val_acc: 0.6332\n",
      "new jersey est parfois parfois en en et il est est en en <PAD> <PAD> <PAD> <PAD> <PAD> <PAD> <PAD> <PAD>\n"
     ]
    }
   ],
   "source": [
    "from keras.layers import Bidirectional\n",
    "from keras.layers import GRU, Input, Dense, TimeDistributed\n",
    "from keras.models import Model, Sequential\n",
    "from keras.layers import Activation\n",
    "from keras.optimizers import Adam\n",
    "from keras.losses import sparse_categorical_crossentropy\n",
    "\n",
    "\n",
    "def bd_model(input_shape, output_sequence_length, english_vocab_size, french_vocab_size):\n",
    "    \"\"\"\n",
    "    Build and train a bidirectional RNN model on x and y\n",
    "    :param input_shape: Tuple of input shape\n",
    "    :param output_sequence_length: Length of output sequence\n",
    "    :param english_vocab_size: Number of unique English words in the dataset\n",
    "    :param french_vocab_size: Number of unique French words in the dataset\n",
    "    :return: Keras model built, but not trained\n",
    "    \"\"\"\n",
    "    # TODO: Implement\n",
    "    lr = 1e-4\n",
    "    input_layer = Input(shape=input_shape[1:])\n",
    "    rnn_layer = Bidirectional(GRU(128, return_sequences=True))(input_layer)\n",
    "    output_layer = TimeDistributed(Dense(french_vocab_size, activation='softmax'))(rnn_layer)\n",
    "    model = Model(input_layer, output_layer)\n",
    "    \n",
    "    model.compile(loss=sparse_categorical_crossentropy,\n",
    "                  optimizer=Adam(lr),\n",
    "                  metrics=['accuracy'])\n",
    "    return model\n",
    "tests.test_bd_model(bd_model)\n",
    "\n",
    "\n",
    "# TODO: Train and Print prediction(s)\n",
    "# TODO: Reshape the input\n",
    "tmp_x = pad(preproc_english_sentences, preproc_french_sentences.shape[1])\n",
    "tmp_x = tmp_x.reshape((-1, preproc_french_sentences.shape[-2], 1))\n",
    "\n",
    "# Train the neural network\n",
    "bd_rnn_model = bd_model(\n",
    "    tmp_x.shape,\n",
    "    preproc_french_sentences.shape[1],\n",
    "    english_vocab_size,\n",
    "    french_vocab_size)\n",
    "\n",
    "bd_rnn_model.fit(tmp_x, preproc_french_sentences, batch_size=1024, epochs=20, validation_split=0.2)\n",
    "bd_rnn_model.save(os.path.join(\"model\", \"bd_rnn.h5\"))\n",
    "\n",
    "# Print prediction(s)\n",
    "print(logits_to_text(bd_rnn_model.predict(tmp_x[:1])[0], french_tokenizer))"
   ]
  },
  {
   "cell_type": "code",
   "execution_count": 14,
   "metadata": {},
   "outputs": [
    {
     "data": {
      "text/plain": [
       "21"
      ]
     },
     "execution_count": 14,
     "metadata": {},
     "output_type": "execute_result"
    }
   ],
   "source": [
    "preproc_french_sentences.shape[1]"
   ]
  },
  {
   "cell_type": "markdown",
   "metadata": {},
   "source": [
    "### Model 4: Encoder-Decoder (OPTIONAL)\n",
    "Time to look at encoder-decoder models.  This model is made up of an encoder and decoder. The encoder creates a matrix representation of the sentence.  The decoder takes this matrix as input and predicts the translation as output.\n",
    "\n",
    "Create an encoder-decoder model in the cell below."
   ]
  },
  {
   "cell_type": "code",
   "execution_count": 12,
   "metadata": {},
   "outputs": [
    {
     "name": "stdout",
     "output_type": "stream",
     "text": [
      "Train on 110288 samples, validate on 27573 samples\n",
      "Epoch 1/20\n",
      "110288/110288 [==============================] - 21s 193us/step - loss: 4.1362 - acc: 0.4084 - val_loss: nan - val_acc: 0.4444\n",
      "Epoch 2/20\n",
      "110288/110288 [==============================] - 19s 173us/step - loss: 2.6955 - acc: 0.4537 - val_loss: nan - val_acc: 0.4713\n",
      "Epoch 3/20\n",
      "110288/110288 [==============================] - 19s 173us/step - loss: 2.4973 - acc: 0.4795 - val_loss: nan - val_acc: 0.4931\n",
      "Epoch 4/20\n",
      "110288/110288 [==============================] - 19s 174us/step - loss: 2.3759 - acc: 0.4976 - val_loss: nan - val_acc: 0.4994\n",
      "Epoch 5/20\n",
      "110288/110288 [==============================] - 19s 173us/step - loss: 2.2777 - acc: 0.5019 - val_loss: nan - val_acc: 0.5088\n",
      "Epoch 6/20\n",
      "110288/110288 [==============================] - 19s 174us/step - loss: 2.2033 - acc: 0.5124 - val_loss: nan - val_acc: 0.5229\n",
      "Epoch 7/20\n",
      "110288/110288 [==============================] - 19s 174us/step - loss: 2.1005 - acc: 0.5240 - val_loss: nan - val_acc: 0.5251\n",
      "Epoch 8/20\n",
      "110288/110288 [==============================] - 19s 175us/step - loss: 1.9963 - acc: 0.5296 - val_loss: nan - val_acc: 0.5390\n",
      "Epoch 9/20\n",
      "110288/110288 [==============================] - 19s 175us/step - loss: 1.9259 - acc: 0.5420 - val_loss: nan - val_acc: 0.5444\n",
      "Epoch 10/20\n",
      "110288/110288 [==============================] - 19s 174us/step - loss: 1.8672 - acc: 0.5470 - val_loss: nan - val_acc: 0.5508\n",
      "Epoch 11/20\n",
      "110288/110288 [==============================] - 19s 174us/step - loss: 1.8134 - acc: 0.5526 - val_loss: nan - val_acc: 0.5569\n",
      "Epoch 12/20\n",
      "110288/110288 [==============================] - 19s 176us/step - loss: 1.7674 - acc: 0.5587 - val_loss: nan - val_acc: 0.5617\n",
      "Epoch 13/20\n",
      "110288/110288 [==============================] - 19s 174us/step - loss: 1.7283 - acc: 0.5607 - val_loss: nan - val_acc: 0.5650\n",
      "Epoch 14/20\n",
      "110288/110288 [==============================] - 19s 175us/step - loss: 1.6966 - acc: 0.5646 - val_loss: nan - val_acc: 0.5675\n",
      "Epoch 15/20\n",
      "110288/110288 [==============================] - 19s 175us/step - loss: 1.6666 - acc: 0.5693 - val_loss: nan - val_acc: 0.5710\n",
      "Epoch 16/20\n",
      "110288/110288 [==============================] - 19s 176us/step - loss: 1.6404 - acc: 0.5708 - val_loss: nan - val_acc: 0.5733\n",
      "Epoch 17/20\n",
      "110288/110288 [==============================] - 19s 176us/step - loss: 1.6152 - acc: 0.5730 - val_loss: nan - val_acc: 0.5752\n",
      "Epoch 18/20\n",
      "110288/110288 [==============================] - 19s 175us/step - loss: 1.5907 - acc: 0.5773 - val_loss: nan - val_acc: 0.5813\n",
      "Epoch 19/20\n",
      "110288/110288 [==============================] - 19s 175us/step - loss: 1.5669 - acc: 0.5820 - val_loss: nan - val_acc: 0.5843\n",
      "Epoch 20/20\n",
      "110288/110288 [==============================] - 19s 176us/step - loss: 1.5438 - acc: 0.5861 - val_loss: nan - val_acc: 0.5900\n",
      "new est est jamais en en mois et il est est en en <PAD> <PAD> <PAD> <PAD> <PAD> <PAD> <PAD> <PAD>\n"
     ]
    }
   ],
   "source": [
    "from keras.layers import Bidirectional, RepeatVector\n",
    "from keras.layers import GRU, Input, Dense, TimeDistributed\n",
    "from keras.models import Model, Sequential\n",
    "from keras.layers import Activation\n",
    "from keras.optimizers import Adam\n",
    "from keras.losses import sparse_categorical_crossentropy\n",
    "\n",
    "def encdec_model(input_shape, output_sequence_length, english_vocab_size, french_vocab_size):\n",
    "    \"\"\"\n",
    "    Build and train an encoder-decoder model on x and y\n",
    "    :param input_shape: Tuple of input shape\n",
    "    :param output_sequence_length: Length of output sequence\n",
    "    :param english_vocab_size: Number of unique English words in the dataset\n",
    "    :param french_vocab_size: Number of unique French words in the dataset\n",
    "    :return: Keras model built, but not trained\n",
    "    \"\"\"\n",
    "    # OPTIONAL: Implement\n",
    "    lr = 1e-4\n",
    "    # encoder\n",
    "    input_layer = Input(input_shape[1:])\n",
    "    rnn = GRU(256, return_sequences=False)(input_layer)\n",
    "    rep = RepeatVector(output_sequence_length)(rnn)\n",
    "    \n",
    "    # decoder\n",
    "    \n",
    "    decode_rnn = GRU(256, return_sequences=True)(rep)\n",
    "    output_layer = TimeDistributed(Dense(french_vocab_size, activation='softmax'))(decode_rnn)\n",
    "    model = Model(input_layer, output_layer)\n",
    "    model.compile(loss=sparse_categorical_crossentropy,\n",
    "                  optimizer=Adam(lr),\n",
    "                  metrics=['accuracy'])\n",
    "    return model\n",
    "\n",
    "tests.test_encdec_model(encdec_model)\n",
    "\n",
    "\n",
    "# OPTIONAL: Train and Print prediction(s)\n",
    "# TODO: Reshape the input\n",
    "tmp_x = pad(preproc_english_sentences, preproc_french_sentences.shape[1])\n",
    "tmp_x = tmp_x.reshape((-1, preproc_french_sentences.shape[-2], 1))\n",
    "\n",
    "# Train the neural network\n",
    "encdec_rnn_model = encdec_model(\n",
    "    tmp_x.shape,\n",
    "    preproc_french_sentences.shape[1],\n",
    "    english_vocab_size,\n",
    "    french_vocab_size)\n",
    "\n",
    "encdec_rnn_model.fit(tmp_x, preproc_french_sentences, batch_size=1024, epochs=20, validation_split=0.2)\n",
    "encdec_rnn_model.save(os.path.join(\"model\", \"encdec_rnn.h5\"))\n",
    "\n",
    "# Print prediction(s)\n",
    "print(logits_to_text(encdec_rnn_model.predict(tmp_x[:1])[0], french_tokenizer))"
   ]
  },
  {
   "cell_type": "markdown",
   "metadata": {},
   "source": [
    "### Model 5: Custom (IMPLEMENTATION)\n",
    "Use everything you learned from the previous models to create a model that incorporates embedding and a bidirectional rnn into one model."
   ]
  },
  {
   "cell_type": "code",
   "execution_count": 18,
   "metadata": {},
   "outputs": [
    {
     "name": "stdout",
     "output_type": "stream",
     "text": [
      "Final Model Loaded\n"
     ]
    }
   ],
   "source": [
    "from keras.layers import Bidirectional, RepeatVector\n",
    "from keras.layers import GRU, Input, Dense, TimeDistributed\n",
    "from keras.models import Model, Sequential\n",
    "from keras.layers import Activation\n",
    "from keras.optimizers import Adam\n",
    "from keras.losses import sparse_categorical_crossentropy\n",
    "from keras.layers.embeddings import Embedding\n",
    "\n",
    "def model_final(input_shape, output_sequence_length, english_vocab_size, french_vocab_size):\n",
    "    \"\"\"\n",
    "    Build and train a model that incorporates embedding, encoder-decoder, and bidirectional RNN on x and y\n",
    "    :param input_shape: Tuple of input shape\n",
    "    :param output_sequence_length: Length of output sequence\n",
    "    :param english_vocab_size: Number of unique English words in the dataset\n",
    "    :param french_vocab_size: Number of unique French words in the dataset\n",
    "    :return: Keras model built, but not trained\n",
    "    \"\"\"\n",
    "    # TODO: Implement\n",
    "    lr = 1e-3\n",
    "    input_layer = Input(shape=input_shape[1:])\n",
    "    embed_layer = Embedding(input_dim=english_vocab_size, output_dim=300)(input_layer)\n",
    "    # encoder \n",
    "    enc_rnn = Bidirectional(GRU(128, return_sequences=False))(embed_layer)\n",
    "    rep = RepeatVector(output_sequence_length)(enc_rnn)\n",
    "    \n",
    "    # decoder\n",
    "    dec_rnn = Bidirectional(GRU(128, return_sequences=True))(rep)\n",
    "    hidden_layer = TimeDistributed(Dense(512, activation='relu'))(dec_rnn)\n",
    "    output_layer = TimeDistributed(Dense(french_vocab_size, activation='softmax'))(hidden_layer)\n",
    "    model = Model(input_layer, output_layer)\n",
    "    model.compile(loss=sparse_categorical_crossentropy,\n",
    "                  optimizer=Adam(lr),\n",
    "                  metrics=['accuracy'])\n",
    "    return model\n",
    "tests.test_model_final(model_final)\n",
    "\n",
    "\n",
    "print('Final Model Loaded')\n",
    "# TODO: Train the final model\n"
   ]
  },
  {
   "cell_type": "markdown",
   "metadata": {},
   "source": [
    "## Prediction (IMPLEMENTATION)"
   ]
  },
  {
   "cell_type": "code",
   "execution_count": 20,
   "metadata": {},
   "outputs": [
    {
     "name": "stdout",
     "output_type": "stream",
     "text": [
      "Train on 110288 samples, validate on 27573 samples\n",
      "Epoch 1/20\n",
      "110288/110288 [==============================] - 28s 255us/step - loss: 2.7248 - acc: 0.4610 - val_loss: nan - val_acc: 0.5512\n",
      "Epoch 2/20\n",
      "110288/110288 [==============================] - 26s 234us/step - loss: 1.5149 - acc: 0.6064 - val_loss: nan - val_acc: 0.6500\n",
      "Epoch 3/20\n",
      "110288/110288 [==============================] - 26s 235us/step - loss: 1.2154 - acc: 0.6688 - val_loss: nan - val_acc: 0.6900\n",
      "Epoch 4/20\n",
      "110288/110288 [==============================] - 26s 234us/step - loss: 1.0597 - acc: 0.7020 - val_loss: nan - val_acc: 0.7134\n",
      "Epoch 5/20\n",
      "110288/110288 [==============================] - 26s 233us/step - loss: 0.9594 - acc: 0.7226 - val_loss: nan - val_acc: 0.7369\n",
      "Epoch 6/20\n",
      "110288/110288 [==============================] - 26s 233us/step - loss: 0.8611 - acc: 0.7474 - val_loss: nan - val_acc: 0.7576\n",
      "Epoch 7/20\n",
      "110288/110288 [==============================] - 26s 234us/step - loss: 0.7864 - acc: 0.7661 - val_loss: nan - val_acc: 0.7754\n",
      "Epoch 8/20\n",
      "110288/110288 [==============================] - 26s 233us/step - loss: 0.7267 - acc: 0.7819 - val_loss: nan - val_acc: 0.7895\n",
      "Epoch 9/20\n",
      "110288/110288 [==============================] - 26s 234us/step - loss: 0.6630 - acc: 0.8008 - val_loss: nan - val_acc: 0.8039\n",
      "Epoch 10/20\n",
      "110288/110288 [==============================] - 26s 234us/step - loss: 0.6088 - acc: 0.8174 - val_loss: nan - val_acc: 0.8291\n",
      "Epoch 11/20\n",
      "110288/110288 [==============================] - 26s 233us/step - loss: 0.5457 - acc: 0.8374 - val_loss: nan - val_acc: 0.8463\n",
      "Epoch 12/20\n",
      "110288/110288 [==============================] - 26s 234us/step - loss: 0.4891 - acc: 0.8550 - val_loss: nan - val_acc: 0.8619\n",
      "Epoch 13/20\n",
      "110288/110288 [==============================] - 26s 234us/step - loss: 0.4354 - acc: 0.8719 - val_loss: nan - val_acc: 0.8792\n",
      "Epoch 14/20\n",
      "110288/110288 [==============================] - 26s 234us/step - loss: 0.3950 - acc: 0.8845 - val_loss: nan - val_acc: 0.8925\n",
      "Epoch 15/20\n",
      "110288/110288 [==============================] - 26s 234us/step - loss: 0.3496 - acc: 0.8980 - val_loss: nan - val_acc: 0.9056\n",
      "Epoch 16/20\n",
      "110288/110288 [==============================] - 26s 234us/step - loss: 0.3138 - acc: 0.9087 - val_loss: nan - val_acc: 0.9141\n",
      "Epoch 17/20\n",
      "110288/110288 [==============================] - 26s 233us/step - loss: 0.2762 - acc: 0.9212 - val_loss: nan - val_acc: 0.9255\n",
      "Epoch 18/20\n",
      "110288/110288 [==============================] - 26s 233us/step - loss: 0.2445 - acc: 0.9313 - val_loss: nan - val_acc: 0.9311\n",
      "Epoch 19/20\n",
      "110288/110288 [==============================] - 26s 233us/step - loss: 0.2252 - acc: 0.9363 - val_loss: nan - val_acc: 0.9372\n",
      "Epoch 20/20\n",
      "110288/110288 [==============================] - 26s 234us/step - loss: 0.1992 - acc: 0.9441 - val_loss: nan - val_acc: 0.9446\n",
      "Sample 1:\n",
      "il a vu un gros camion jaune <PAD> <PAD> <PAD> <PAD> <PAD> <PAD> <PAD> <PAD> <PAD> <PAD> <PAD> <PAD> <PAD> <PAD>\n",
      "Il a vu un vieux camion jaune\n",
      "Sample 2:\n",
      "new jersey est parfois calme pendant cours automne l' il est neigeux en avril <PAD> <PAD> <PAD> <PAD> <PAD> <PAD> <PAD>\n",
      "new jersey est parfois calme pendant l' automne et il est neigeux en avril <PAD> <PAD> <PAD> <PAD> <PAD> <PAD> <PAD>\n"
     ]
    }
   ],
   "source": [
    "def final_predictions(x, y, x_tk, y_tk):\n",
    "    \"\"\"\n",
    "    Gets predictions using the final model\n",
    "    :param x: Preprocessed English data\n",
    "    :param y: Preprocessed French data\n",
    "    :param x_tk: English tokenizer\n",
    "    :param y_tk: French tokenizer\n",
    "    \"\"\"\n",
    "    # TODO: Train neural network using model_final\n",
    "    model = model_final(x.shape,y.shape[1],\n",
    "                        len(x_tk.word_index),\n",
    "                        len(y_tk.word_index))\n",
    "\n",
    "    model.fit(x, y, batch_size=1024, epochs=20, validation_split=0.2)\n",
    "    model.save(os.path.join(\"model\", \"final_model.h5\"))\n",
    "    ## DON'T EDIT ANYTHING BELOW THIS LINE\n",
    "    y_id_to_word = {value: key for key, value in y_tk.word_index.items()}\n",
    "    y_id_to_word[0] = '<PAD>'\n",
    "\n",
    "    sentence = 'he saw a old yellow truck'\n",
    "    sentence = [x_tk.word_index[word] for word in sentence.split()]\n",
    "    sentence = pad_sequences([sentence], maxlen=x.shape[-1], padding='post')\n",
    "    sentences = np.array([sentence[0], x[0]])\n",
    "    predictions = model.predict(sentences, len(sentences))\n",
    "\n",
    "    print('Sample 1:')\n",
    "    print(' '.join([y_id_to_word[np.argmax(x)] for x in predictions[0]]))\n",
    "    print('Il a vu un vieux camion jaune')\n",
    "    print('Sample 2:')\n",
    "    print(' '.join([y_id_to_word[np.argmax(x)] for x in predictions[1]]))\n",
    "    print(' '.join([y_id_to_word[np.max(x)] for x in y[0]]))\n",
    "\n",
    "\n",
    "final_predictions(preproc_english_sentences, preproc_french_sentences, english_tokenizer, french_tokenizer)"
   ]
  },
  {
   "cell_type": "markdown",
   "metadata": {},
   "source": [
    "## Submission\n",
    "When you're ready to submit, complete the following steps:\n",
    "1. Review the [rubric](https://review.udacity.com/#!/rubrics/1004/view) to ensure your submission meets all requirements to pass\n",
    "2. Generate an HTML version of this notebook\n",
    "\n",
    "  - Run the next cell to attempt automatic generation (this is the recommended method in Workspaces)\n",
    "  - Navigate to **FILE -> Download as -> HTML (.html)**\n",
    "  - Manually generate a copy using `nbconvert` from your shell terminal\n",
    "```\n",
    "$ pip install nbconvert\n",
    "$ python -m nbconvert machine_translation.ipynb\n",
    "```\n",
    "  \n",
    "3. Submit the project\n",
    "\n",
    "  - If you are in a Workspace, simply click the \"Submit Project\" button (bottom towards the right)\n",
    "  \n",
    "  - Otherwise, add the following files into a zip archive and submit them \n",
    "  - `helper.py`\n",
    "  - `machine_translation.ipynb`\n",
    "  - `machine_translation.html`\n",
    "    - You can export the notebook by navigating to **File -> Download as -> HTML (.html)**."
   ]
  },
  {
   "cell_type": "markdown",
   "metadata": {},
   "source": [
    "### Generate the html\n",
    "\n",
    "**Save your notebook before running the next cell to generate the HTML output.** Then submit your project."
   ]
  },
  {
   "cell_type": "code",
   "execution_count": 22,
   "metadata": {},
   "outputs": [
    {
     "data": {
      "text/plain": [
       "['[NbConvertApp] Converting notebook machine_translation.ipynb to html',\n",
       " '[NbConvertApp] Writing 385187 bytes to machine_translation.html',\n",
       " '[NbConvertApp] Converting notebook machine_translation-zh.ipynb to html',\n",
       " '[NbConvertApp] Writing 328614 bytes to machine_translation-zh.html']"
      ]
     },
     "execution_count": 22,
     "metadata": {},
     "output_type": "execute_result"
    }
   ],
   "source": [
    "# Save before you run this cell!\n",
    "!!jupyter nbconvert *.ipynb"
   ]
  },
  {
   "cell_type": "markdown",
   "metadata": {},
   "source": [
    "## Optional Enhancements\n",
    "\n",
    "This project focuses on learning various network architectures for machine translation, but we don't evaluate the models according to best practices by splitting the data into separate test & training sets -- so the model accuracy is overstated. Use the [`sklearn.model_selection.train_test_split()`](http://scikit-learn.org/stable/modules/generated/sklearn.model_selection.train_test_split.html) function to create separate training & test datasets, then retrain each of the models using only the training set and evaluate the prediction accuracy using the hold out test set. Does the \"best\" model change?"
   ]
  },
  {
   "cell_type": "code",
   "execution_count": 22,
   "metadata": {},
   "outputs": [
    {
     "name": "stderr",
     "output_type": "stream",
     "text": [
      "/opt/conda/lib/python3.6/site-packages/sklearn/model_selection/_split.py:605: Warning: The least populated class in y has only 1 members, which is too few. The minimum number of members in any class cannot be less than n_splits=3.\n",
      "  % (min_groups, self.n_splits)), Warning)\n"
     ]
    },
    {
     "name": "stdout",
     "output_type": "stream",
     "text": [
      "Epoch 1/20\n",
      "91893/91893 [==============================] - 21s 230us/step - loss: 2.9113 - acc: 0.4473\n",
      "Epoch 2/20\n",
      "91893/91893 [==============================] - 20s 218us/step - loss: 1.6969 - acc: 0.5675\n",
      "Epoch 3/20\n",
      "91893/91893 [==============================] - 20s 218us/step - loss: 1.3457 - acc: 0.6386\n",
      "Epoch 4/20\n",
      "91893/91893 [==============================] - 20s 218us/step - loss: 1.1650 - acc: 0.6782\n",
      "Epoch 5/20\n",
      "91893/91893 [==============================] - 20s 218us/step - loss: 1.0405 - acc: 0.7063\n",
      "Epoch 6/20\n",
      "91893/91893 [==============================] - 20s 218us/step - loss: 0.9461 - acc: 0.7265\n",
      "Epoch 7/20\n",
      "91893/91893 [==============================] - 20s 218us/step - loss: 0.8814 - acc: 0.7406\n",
      "Epoch 8/20\n",
      "91893/91893 [==============================] - 20s 218us/step - loss: 0.8249 - acc: 0.7525\n",
      "Epoch 9/20\n",
      "91893/91893 [==============================] - 20s 218us/step - loss: 0.7761 - acc: 0.7641\n",
      "Epoch 10/20\n",
      "91893/91893 [==============================] - 20s 217us/step - loss: 0.7151 - acc: 0.7825\n",
      "Epoch 11/20\n",
      "91893/91893 [==============================] - 20s 218us/step - loss: 0.6659 - acc: 0.7970\n",
      "Epoch 12/20\n",
      "91893/91893 [==============================] - 20s 218us/step - loss: 0.6130 - acc: 0.8137\n",
      "Epoch 13/20\n",
      "91893/91893 [==============================] - 20s 217us/step - loss: 0.5642 - acc: 0.8298\n",
      "Epoch 14/20\n",
      "91893/91893 [==============================] - 20s 217us/step - loss: 0.5167 - acc: 0.8442\n",
      "Epoch 15/20\n",
      "91893/91893 [==============================] - 20s 218us/step - loss: 0.4710 - acc: 0.8589\n",
      "Epoch 16/20\n",
      "91893/91893 [==============================] - 20s 218us/step - loss: 0.4258 - acc: 0.8737\n",
      "Epoch 17/20\n",
      "91893/91893 [==============================] - 20s 218us/step - loss: 0.3897 - acc: 0.8842\n",
      "Epoch 18/20\n",
      "91893/91893 [==============================] - 20s 217us/step - loss: 0.3534 - acc: 0.8949\n",
      "Epoch 19/20\n",
      "91893/91893 [==============================] - 20s 218us/step - loss: 0.3220 - acc: 0.9045\n",
      "Epoch 20/20\n",
      "91893/91893 [==============================] - 20s 218us/step - loss: 0.3132 - acc: 0.9057\n",
      "acc: 91.22%\n",
      "Epoch 1/20\n",
      "91907/91907 [==============================] - 21s 233us/step - loss: 2.8882 - acc: 0.4492\n",
      "Epoch 2/20\n",
      "91907/91907 [==============================] - 20s 218us/step - loss: 1.6569 - acc: 0.5763\n",
      "Epoch 3/20\n",
      "91907/91907 [==============================] - 20s 218us/step - loss: 1.3214 - acc: 0.6463\n",
      "Epoch 4/20\n",
      "91907/91907 [==============================] - 20s 218us/step - loss: 1.1494 - acc: 0.6833\n",
      "Epoch 5/20\n",
      "91907/91907 [==============================] - 20s 219us/step - loss: 1.0397 - acc: 0.7075\n",
      "Epoch 6/20\n",
      "91907/91907 [==============================] - 20s 218us/step - loss: 0.9434 - acc: 0.7293\n",
      "Epoch 7/20\n",
      "91907/91907 [==============================] - 20s 218us/step - loss: 0.8664 - acc: 0.7467\n",
      "Epoch 8/20\n",
      "91907/91907 [==============================] - 20s 218us/step - loss: 0.8123 - acc: 0.7587\n",
      "Epoch 9/20\n",
      "91907/91907 [==============================] - 20s 218us/step - loss: 0.7521 - acc: 0.7735\n",
      "Epoch 10/20\n",
      "91907/91907 [==============================] - 20s 219us/step - loss: 0.6988 - acc: 0.7875\n",
      "Epoch 11/20\n",
      "91907/91907 [==============================] - 20s 218us/step - loss: 0.6472 - acc: 0.8027\n",
      "Epoch 12/20\n",
      "91907/91907 [==============================] - 20s 218us/step - loss: 0.5874 - acc: 0.8211\n",
      "Epoch 13/20\n",
      "91907/91907 [==============================] - 20s 219us/step - loss: 0.5388 - acc: 0.8368\n",
      "Epoch 14/20\n",
      "91907/91907 [==============================] - 20s 219us/step - loss: 0.4965 - acc: 0.8510\n",
      "Epoch 15/20\n",
      "91907/91907 [==============================] - 20s 218us/step - loss: 0.4501 - acc: 0.8665\n",
      "Epoch 16/20\n",
      "91907/91907 [==============================] - 20s 218us/step - loss: 0.4088 - acc: 0.8794\n",
      "Epoch 17/20\n",
      "91907/91907 [==============================] - 20s 218us/step - loss: 0.3660 - acc: 0.8924\n",
      "Epoch 18/20\n",
      "91907/91907 [==============================] - 20s 218us/step - loss: 0.3303 - acc: 0.9025\n",
      "Epoch 19/20\n",
      "91907/91907 [==============================] - 20s 218us/step - loss: 0.3066 - acc: 0.9091\n",
      "Epoch 20/20\n",
      "91907/91907 [==============================] - 20s 219us/step - loss: 0.2763 - acc: 0.9189\n",
      "acc: 91.70%\n",
      "Epoch 1/20\n",
      "91922/91922 [==============================] - 21s 234us/step - loss: 2.8983 - acc: 0.4486\n",
      "Epoch 2/20\n",
      "91922/91922 [==============================] - 20s 218us/step - loss: 1.6850 - acc: 0.5740\n",
      "Epoch 3/20\n",
      "91922/91922 [==============================] - 20s 218us/step - loss: 1.3274 - acc: 0.6483\n",
      "Epoch 4/20\n",
      "91922/91922 [==============================] - 20s 218us/step - loss: 1.1560 - acc: 0.6854\n",
      "Epoch 5/20\n",
      "91922/91922 [==============================] - 20s 219us/step - loss: 1.0474 - acc: 0.7094\n",
      "Epoch 6/20\n",
      "91922/91922 [==============================] - 20s 218us/step - loss: 0.9668 - acc: 0.7259\n",
      "Epoch 7/20\n",
      "91922/91922 [==============================] - 20s 219us/step - loss: 0.9029 - acc: 0.7367\n",
      "Epoch 8/20\n",
      "91922/91922 [==============================] - 20s 218us/step - loss: 0.8262 - acc: 0.7555\n",
      "Epoch 9/20\n",
      "91922/91922 [==============================] - 20s 219us/step - loss: 0.7689 - acc: 0.7703\n",
      "Epoch 10/20\n",
      "91922/91922 [==============================] - 20s 219us/step - loss: 0.7055 - acc: 0.7881\n",
      "Epoch 11/20\n",
      "91922/91922 [==============================] - 20s 218us/step - loss: 0.6530 - acc: 0.8031\n",
      "Epoch 12/20\n",
      "91922/91922 [==============================] - 20s 218us/step - loss: 0.5938 - acc: 0.8227\n",
      "Epoch 13/20\n",
      "91922/91922 [==============================] - 20s 219us/step - loss: 0.5377 - acc: 0.8400\n",
      "Epoch 14/20\n",
      "91922/91922 [==============================] - 20s 218us/step - loss: 0.4845 - acc: 0.8564\n",
      "Epoch 15/20\n",
      "91922/91922 [==============================] - 20s 219us/step - loss: 0.4464 - acc: 0.8675\n",
      "Epoch 16/20\n",
      "91922/91922 [==============================] - 20s 219us/step - loss: 0.4039 - acc: 0.8815\n",
      "Epoch 17/20\n",
      "91922/91922 [==============================] - 20s 219us/step - loss: 0.3623 - acc: 0.8941\n",
      "Epoch 18/20\n",
      "91922/91922 [==============================] - 20s 218us/step - loss: 0.3249 - acc: 0.9052\n",
      "Epoch 19/20\n",
      "91922/91922 [==============================] - 20s 218us/step - loss: 0.2917 - acc: 0.9160\n",
      "Epoch 20/20\n",
      "91922/91922 [==============================] - 20s 218us/step - loss: 0.2588 - acc: 0.9268\n",
      "acc: 92.84%\n",
      "91.92% (+/- 0.68%)\n"
     ]
    }
   ],
   "source": [
    "# validation_split argument in model.fit holds out the last 20% of the training data set\n",
    "# validation accuracy should be verified over different data sets\n",
    "# try stratfied Kfold cross validation as described in:\n",
    "    # https://machinelearningmastery.com/evaluate-performance-deep-learning-models-keras/\n",
    "\n",
    "from sklearn.model_selection import StratifiedKFold\n",
    "import numpy\n",
    "# fixed random seed for reproducibility\n",
    "seed = 7\n",
    "numpy.random.seed(seed)\n",
    "# define 3-fold cross validation test harness\n",
    "kfold = StratifiedKFold(n_splits=3, shuffle=True, random_state=seed)\n",
    "cvscores=[]\n",
    "for train, test in kfold.split(preproc_english_sentences[:,0],preproc_french_sentences[:,0,0]):\n",
    "    # compile model\n",
    "    model = model_final(preproc_english_sentences[train].shape,\n",
    "                        preproc_french_sentences[train].shape[1],\n",
    "                        len(english_tokenizer.word_index)+1,\n",
    "                        len(french_tokenizer.word_index)+1)\n",
    "    # fit the model - 10 epochs\n",
    "    model.fit(preproc_english_sentences[train], preproc_french_sentences[train],\n",
    "              batch_size=1024, epochs=20, verbose=1)\n",
    "    # evaluate the model\n",
    "    scores = model.evaluate(preproc_english_sentences[test], preproc_french_sentences[test], verbose=0)\n",
    "    print(\"%s: %.2f%%\" % (model.metrics_names[1], scores[1]*100))\n",
    "    cvscores.append(scores[1]*100)\n",
    "print(\"%.2f%% (+/- %.2f%%)\" % (numpy.mean(cvscores), numpy.std(cvscores)))"
   ]
  },
  {
   "cell_type": "code",
   "execution_count": 21,
   "metadata": {},
   "outputs": [
    {
     "data": {
      "text/plain": [
       "(137861, 15)"
      ]
     },
     "execution_count": 21,
     "metadata": {},
     "output_type": "execute_result"
    }
   ],
   "source": [
    "preproc_english_sentences.shape"
   ]
  },
  {
   "cell_type": "code",
   "execution_count": 23,
   "metadata": {},
   "outputs": [
    {
     "data": {
      "text/plain": [
       "(137861, 21, 1)"
      ]
     },
     "execution_count": 23,
     "metadata": {},
     "output_type": "execute_result"
    }
   ],
   "source": [
    "preproc_french_sentences.shape"
   ]
  },
  {
   "cell_type": "code",
   "execution_count": 25,
   "metadata": {},
   "outputs": [
    {
     "data": {
      "text/plain": [
       "[91.217808011015492, 91.696462755949938, 92.840095441517178]"
      ]
     },
     "execution_count": 25,
     "metadata": {},
     "output_type": "execute_result"
    }
   ],
   "source": [
    "cvscores"
   ]
  },
  {
   "cell_type": "code",
   "execution_count": null,
   "metadata": {},
   "outputs": [],
   "source": []
  }
 ],
 "metadata": {
  "kernelspec": {
   "display_name": "Python 3",
   "language": "python",
   "name": "python3"
  },
  "language_info": {
   "codemirror_mode": {
    "name": "ipython",
    "version": 3
   },
   "file_extension": ".py",
   "mimetype": "text/x-python",
   "name": "python",
   "nbconvert_exporter": "python",
   "pygments_lexer": "ipython3",
   "version": "3.6.3"
  }
 },
 "nbformat": 4,
 "nbformat_minor": 1
}
